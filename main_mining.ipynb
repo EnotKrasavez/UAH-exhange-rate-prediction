{
 "cells": [
  {
   "cell_type": "markdown",
   "metadata": {},
   "source": [
    "## Imports"
   ]
  },
  {
   "cell_type": "code",
   "execution_count": 228,
   "metadata": {
    "collapsed": true
   },
   "outputs": [],
   "source": [
    "import requests\n",
    "from lxml import html\n",
    "import re\n",
    "import datetime\n",
    "from tqdm import tqdm_notebook as progressbar"
   ]
  },
  {
   "cell_type": "markdown",
   "metadata": {},
   "source": [
    "## Take the NBU API URL"
   ]
  },
  {
   "cell_type": "code",
   "execution_count": 229,
   "metadata": {
    "collapsed": true
   },
   "outputs": [],
   "source": [
    "nbu_url = 'https://bank.gov.ua/NBUStatService/v1/statdirectory/exchange?valcode=USD&date=19980101&xml'"
   ]
  },
  {
   "cell_type": "markdown",
   "metadata": {},
   "source": [
    "## Define initial date "
   ]
  },
  {
   "cell_type": "code",
   "execution_count": 230,
   "metadata": {
    "collapsed": true
   },
   "outputs": [],
   "source": [
    "anotherday = datetime.timedelta(days = 1)"
   ]
  },
  {
   "cell_type": "code",
   "execution_count": 231,
   "metadata": {
    "collapsed": true
   },
   "outputs": [],
   "source": [
    "date = datetime.date(1998,1,1)"
   ]
  },
  {
   "cell_type": "markdown",
   "metadata": {},
   "source": [
    "## Open file"
   ]
  },
  {
   "cell_type": "code",
   "execution_count": 232,
   "metadata": {
    "collapsed": true
   },
   "outputs": [],
   "source": [
    "f = open('exchange_rate.csv', 'w', encoding = 'utf-8')"
   ]
  },
  {
   "cell_type": "code",
   "execution_count": 233,
   "metadata": {},
   "outputs": [
    {
     "data": {
      "text/plain": [
       "15"
      ]
     },
     "execution_count": 233,
     "metadata": {},
     "output_type": "execute_result"
    }
   ],
   "source": [
    "f.write('exchange_rate \\n')"
   ]
  },
  {
   "cell_type": "code",
   "execution_count": 234,
   "metadata": {},
   "outputs": [
    {
     "data": {
      "text/plain": [
       "int"
      ]
     },
     "execution_count": 234,
     "metadata": {},
     "output_type": "execute_result"
    }
   ],
   "source": [
    "type(date.day)"
   ]
  },
  {
   "cell_type": "code",
   "execution_count": 235,
   "metadata": {},
   "outputs": [
    {
     "name": "stdout",
     "output_type": "stream",
     "text": [
      "Adding exchange rate for the 1998 year\n",
      "no data for 1998-6-1\n",
      "no data for 1998-11-1\n",
      "no data for 1998-11-2\n",
      "Adding exchange rate for the 1999 year\n",
      "no data for 1999-2-1\n",
      "no data for 1999-3-1\n",
      "no data for 1999-6-1\n",
      "no data for 1999-8-1\n",
      "no data for 1999-8-2\n",
      "no data for 1999-11-1\n",
      "Adding exchange rate for the 2000 year\n",
      "no data for 2000-1-1\n",
      "no data for 2000-1-2\n",
      "no data for 2000-1-3\n",
      "no data for 2000-1-4\n",
      "no data for 2000-1-5\n",
      "no data for 2000-5-1\n",
      "no data for 2000-5-2\n",
      "no data for 2000-5-3\n",
      "no data for 2000-5-4\n",
      "no data for 2000-10-1\n",
      "no data for 2000-10-2\n",
      "Adding exchange rate for the 2001 year\n",
      "no data for 2001-1-1\n",
      "no data for 2001-1-2\n",
      "no data for 2001-4-1\n",
      "no data for 2001-4-2\n",
      "no data for 2001-5-1\n",
      "no data for 2001-5-2\n",
      "no data for 2001-5-3\n",
      "no data for 2001-7-1\n",
      "no data for 2001-7-2\n",
      "no data for 2001-10-1\n",
      "Adding exchange rate for the 2002 year\n",
      "no data for 2002-4-1\n",
      "no data for 2002-7-1\n",
      "no data for 2002-9-1\n",
      "no data for 2002-9-2\n",
      "no data for 2002-12-1\n",
      "no data for 2002-12-2\n",
      "Adding exchange rate for the 2003 year\n",
      "no data for 2003-1-1\n",
      "no data for 2003-1-2\n",
      "no data for 2003-5-1\n",
      "no data for 2003-5-2\n",
      "no data for 2003-5-3\n",
      "no data for 2003-5-4\n",
      "no data for 2003-6-1\n",
      "no data for 2003-11-1\n",
      "no data for 2003-11-2\n",
      "Adding exchange rate for the 2004 year\n",
      "no data for 2004-1-1\n",
      "no data for 2004-1-2\n",
      "no data for 2004-1-3\n",
      "no data for 2004-1-4\n",
      "no data for 2004-2-1\n",
      "Adding exchange rate for the 2005 year\n",
      "Adding exchange rate for the 2006 year\n",
      "Adding exchange rate for the 2007 year\n",
      "Adding exchange rate for the 2008 year\n",
      "Adding exchange rate for the 2009 year\n",
      "Adding exchange rate for the 2010 year\n",
      "Adding exchange rate for the 2011 year\n",
      "Adding exchange rate for the 2012 year\n",
      "Adding exchange rate for the 2013 year\n",
      "Adding exchange rate for the 2014 year\n",
      "Adding exchange rate for the 2015 year\n",
      "Adding exchange rate for the 2016 year\n",
      "Adding exchange rate for the 2017 year\n",
      "Adding exchange rate for the 2018 year\n"
     ]
    }
   ],
   "source": [
    "while date < datetime.date.today():\n",
    "    \n",
    "    # Print year\n",
    "    if date.month == 1 and date.day == 1:\n",
    "        print('Adding exchange rate for the {0} year'.format(date.year))\n",
    "    # Read the text in URL\n",
    "    my_data = (requests.get(nbu_url)).text\n",
    "    \n",
    "    # Select exchange rate UAH to USD at the web-page\n",
    "    # Replace missing data with data for the day before \n",
    "    if my_data == '<?xml version=\"1.0\" encoding=\"UTF-8\"?><exchange/>':\n",
    "        print('no data for {0}-{1}-{2}'.format(date.year, date.month, date.day))\n",
    "        rate = rate\n",
    "    else:\n",
    "        rate = re.split(r'</rate>', re.split(r'<rate>', my_data)[1])[0]\n",
    "    # Write into the csv-file\n",
    "    f.write(rate)\n",
    "    f.write(',')\n",
    "    f.write(str(date))\n",
    "    f.write('\\n')\n",
    "    \n",
    "    # Replaсe the current date to the next one in URL\n",
    "    output_date = ''.join(str(date).split('-'))\n",
    "    input_date = ''.join(str(date + anotherday).split('-'))\n",
    "    nbu_url = re.sub(output_date, input_date, nbu_url)\n",
    "    date = date + anotherday"
   ]
  },
  {
   "cell_type": "code",
   "execution_count": 236,
   "metadata": {
    "scrolled": true
   },
   "outputs": [
    {
     "name": "stdout",
     "output_type": "stream",
     "text": [
      "https://bank.gov.ua/NBUStatService/v1/statdirectory/exchange?valcode=USD&date=20180308&xml\n"
     ]
    }
   ],
   "source": [
    "print(nbu_url)"
   ]
  },
  {
   "cell_type": "markdown",
   "metadata": {},
   "source": [
    "## Don't forget to close your file!"
   ]
  },
  {
   "cell_type": "code",
   "execution_count": 237,
   "metadata": {
    "collapsed": true
   },
   "outputs": [],
   "source": [
    "f.close()"
   ]
  }
 ],
 "metadata": {
  "kernelspec": {
   "display_name": "Python 3",
   "language": "python",
   "name": "python3"
  },
  "language_info": {
   "codemirror_mode": {
    "name": "ipython",
    "version": 3
   },
   "file_extension": ".py",
   "mimetype": "text/x-python",
   "name": "python",
   "nbconvert_exporter": "python",
   "pygments_lexer": "ipython3",
   "version": "3.6.3"
  }
 },
 "nbformat": 4,
 "nbformat_minor": 2
}
