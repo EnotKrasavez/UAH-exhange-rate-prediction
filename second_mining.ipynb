{
 "cells": [
  {
   "cell_type": "markdown",
   "metadata": {},
   "source": [
    "## Imports"
   ]
  },
  {
   "cell_type": "code",
   "execution_count": 1,
   "metadata": {
    "collapsed": true
   },
   "outputs": [],
   "source": [
    "import requests\n",
    "from lxml import html\n",
    "import re\n",
    "import datetime\n",
    "from tqdm import tqdm_notebook as progressbar"
   ]
  },
  {
   "cell_type": "markdown",
   "metadata": {},
   "source": [
    "## Take the NBU API URL"
   ]
  },
  {
   "cell_type": "code",
   "execution_count": 140,
   "metadata": {
    "collapsed": true
   },
   "outputs": [],
   "source": [
    "nbu_url = 'https://bank.gov.ua/NBUStatService/v1/statdirectory/exchange?valcode=USD&date=20180314&xml'"
   ]
  },
  {
   "cell_type": "markdown",
   "metadata": {},
   "source": [
    "## Define initial date "
   ]
  },
  {
   "cell_type": "code",
   "execution_count": 146,
   "metadata": {
    "collapsed": true
   },
   "outputs": [],
   "source": [
    "r = open('data/exchange_rate.csv', 'r', encoding = 'utf-8')\n",
    "check = r.readlines()[-20:]\n",
    "r.close()"
   ]
  },
  {
   "cell_type": "code",
   "execution_count": 147,
   "metadata": {},
   "outputs": [
    {
     "data": {
      "text/plain": [
       "['26.535904,2018-03-03\\n',\n",
       " '26.535904,2018-03-04\\n',\n",
       " '26.535904,2018-03-05\\n',\n",
       " '26.48208,2018-03-06\\n',\n",
       " '26.348957,2018-03-07 \\n',\n",
       " '26.348957,2018-03-08\\n',\n",
       " '26.348957,2018-03-09\\n',\n",
       " '26.348957,2018-03-10\\n',\n",
       " '26.348957,2018-03-11\\n',\n",
       " '26.093953,2018-03-12\\n',\n",
       " '25.924612,2018-03-13\\n',\n",
       " '25.915887, 2018-03-14\\n',\n",
       " '26.013978, 2018-03-15\\n',\n",
       " '26.272654, 2018-03-16\\n',\n",
       " '26.272654, 2018-03-17\\n',\n",
       " '26.272654, 2018-03-18\\n',\n",
       " '26.35391, 2018-03-19\\n',\n",
       " '26.436044, 2018-03-20\\n',\n",
       " '26.301118, 2018-03-21\\n',\n",
       " '26.280974, 2018-03-22\\n']"
      ]
     },
     "execution_count": 147,
     "metadata": {},
     "output_type": "execute_result"
    }
   ],
   "source": [
    "check"
   ]
  },
  {
   "cell_type": "code",
   "execution_count": 67,
   "metadata": {
    "collapsed": true
   },
   "outputs": [],
   "source": [
    "import re"
   ]
  },
  {
   "cell_type": "code",
   "execution_count": 141,
   "metadata": {},
   "outputs": [],
   "source": [
    "date = datetime.date(2018,3,14)"
   ]
  },
  {
   "cell_type": "code",
   "execution_count": 119,
   "metadata": {
    "collapsed": true
   },
   "outputs": [],
   "source": [
    "anotherday = datetime.timedelta(days = 1)"
   ]
  },
  {
   "cell_type": "code",
   "execution_count": 144,
   "metadata": {},
   "outputs": [
    {
     "data": {
      "text/plain": [
       "(datetime.date(2018, 3, 14),\n",
       " 'https://bank.gov.ua/NBUStatService/v1/statdirectory/exchange?valcode=USD&date=20180314&xml',\n",
       " datetime.timedelta(1))"
      ]
     },
     "execution_count": 144,
     "metadata": {},
     "output_type": "execute_result"
    }
   ],
   "source": [
    "date, nbu_url, anotherday"
   ]
  },
  {
   "cell_type": "markdown",
   "metadata": {},
   "source": [
    "## Open file, write, close file"
   ]
  },
  {
   "cell_type": "code",
   "execution_count": 145,
   "metadata": {},
   "outputs": [],
   "source": [
    "f = open('data/exchange_rate.csv', 'a', encoding = 'utf-8')\n",
    "while date <= datetime.date.today():\n",
    "    \n",
    "    # Print year\n",
    "    if date.month == 1 and date.day == 1:\n",
    "        print('Adding exchange rate for the {0} year'.format(date.year))\n",
    "    # Read the text in URL\n",
    "    my_data = (requests.get(nbu_url)).text\n",
    "    \n",
    "    # Select exchange rate UAH to USD at the web-page\n",
    "    # Replace missing data with data for the day before \n",
    "    if my_data == '<?xml version=\"1.0\" encoding=\"UTF-8\"?><exchange/>':\n",
    "        print('no data for {0}-{1}-{2}'.format(date.year, date.month, date.day))\n",
    "        rate = rate\n",
    "    else:\n",
    "        rate = re.split(r'</rate>', re.split(r'<rate>', my_data)[1])[0]\n",
    "    # Write into the csv-file\n",
    "    f.write('{0}, {1}\\n'.format(rate, str(date)))\n",
    "    \n",
    "    # Replaсe the current date to the next one in URL\n",
    "    output_date = ''.join(str(date).split('-'))\n",
    "    input_date = ''.join(str(date + anotherday).split('-'))\n",
    "    nbu_url = re.sub(output_date, input_date, nbu_url)\n",
    "    date = date + anotherday\n",
    "f.close()"
   ]
  },
  {
   "cell_type": "code",
   "execution_count": 137,
   "metadata": {
    "scrolled": true
   },
   "outputs": [
    {
     "name": "stdout",
     "output_type": "stream",
     "text": [
      "https://bank.gov.ua/NBUStatService/v1/statdirectory/exchange?valcode=USD&date=20180323&xml\n"
     ]
    }
   ],
   "source": [
    "print(nbu_url)"
   ]
  },
  {
   "cell_type": "markdown",
   "metadata": {},
   "source": [
    "## Don't forget to close your file!"
   ]
  },
  {
   "cell_type": "code",
   "execution_count": 126,
   "metadata": {
    "collapsed": true
   },
   "outputs": [],
   "source": []
  }
 ],
 "metadata": {
  "kernelspec": {
   "display_name": "Python 3",
   "language": "python",
   "name": "python3"
  },
  "language_info": {
   "codemirror_mode": {
    "name": "ipython",
    "version": 3
   },
   "file_extension": ".py",
   "mimetype": "text/x-python",
   "name": "python",
   "nbconvert_exporter": "python",
   "pygments_lexer": "ipython3",
   "version": "3.6.3"
  }
 },
 "nbformat": 4,
 "nbformat_minor": 2
}
