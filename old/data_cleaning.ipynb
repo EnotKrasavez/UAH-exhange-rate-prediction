{
 "cells": [
  {
   "cell_type": "markdown",
   "metadata": {},
   "source": [
    "## Import"
   ]
  },
  {
   "cell_type": "code",
   "execution_count": 1,
   "metadata": {},
   "outputs": [],
   "source": [
    "import numpy as np\n",
    "import pandas as pd\n",
    "import matplotlib.pyplot as plt"
   ]
  },
  {
   "cell_type": "code",
   "execution_count": 2,
   "metadata": {},
   "outputs": [],
   "source": [
    "import datetime\n",
    "import json"
   ]
  },
  {
   "cell_type": "markdown",
   "metadata": {},
   "source": [
    "## Open files"
   ]
  },
  {
   "cell_type": "code",
   "execution_count": 3,
   "metadata": {},
   "outputs": [],
   "source": [
    "# Add income of UA budget\n",
    "with open('data/budget_income.json') as b:\n",
    "    budget_income_dict = json.loads(b.read())\n",
    "    \n",
    "# Add expenses of UA budget\n",
    "with open('data/budget_expenses.json') as b_e:\n",
    "    budget_expenses_dict = json.loads(b_e.read())\n",
    "    \n",
    "# Add consumer price index\n",
    "with open('data/inflation.json', 'r') as inf:\n",
    "    inflation_dict = json.loads(inf.read())\n",
    "    \n",
    "# Add incomes of all Ukrainian banks, except of NBU\n",
    "with open('data/bank_inc.json', 'r') as bank_inc:\n",
    "    bank_income_dict = json.loads(bank_inc.read())\n",
    "\n",
    "# Add expenses of all Ukrainian banks, except of NBU\n",
    "with open('data/bank_exp.json', 'r') as bank_exp:\n",
    "    bank_expenses_dict = json.loads(bank_exp.read())\n",
    "    \n",
    "# Add amount of Ukrainian export\n",
    "with open('data/export.json', 'r') as export:\n",
    "    ua_export_dict = json.loads(export.read())\n",
    "    \n",
    "# Add amount of Ukrainian import\n",
    "with open('data/import.json', 'r') as ua_imp:\n",
    "    ua_import_dict = json.loads(ua_imp.read())\n",
    "    \n",
    "# Add gross external debt\n",
    "with open('data/grossextdebt.json', 'r') as debt:\n",
    "    grossextdebt_dict = json.loads(debt.read())\n",
    "\n",
    "# Add Ukrainian GDP\n",
    "with open('data/vvp.json', 'r') as gdp:\n",
    "    gross_domestic_product_dict = json.loads(gdp.read())\n",
    "\n",
    "# Add trends of exchange interest\n",
    "df_interest_trend = pd.read_csv('data/kurs.csv')\n",
    "\n",
    "# Add exchange rate UAH to USD\n",
    "exchange_rate = pd.read_csv('data/exchange_rate.csv')"
   ]
  },
  {
   "cell_type": "markdown",
   "metadata": {},
   "source": [
    "## Define a function to clean data from useless information"
   ]
  },
  {
   "cell_type": "code",
   "execution_count": 4,
   "metadata": {},
   "outputs": [],
   "source": [
    "def df_cleaner(new_dict):\n",
    "    \n",
    "    # We need only these three columns\n",
    "    new_cols = ['freq', 'value', 'date']\n",
    "    df = pd.DataFrame(new_dict)\n",
    "    \n",
    "    #  A condition to choose only absolute values of import/export\n",
    "    if df['tzep'][0] == 'F_':\n",
    "        df = df.where(df['tzep'] == 'F_')\n",
    "     \n",
    "    # Rename columns\n",
    "    df.rename(columns={'dt' : 'date'}, inplace = True)\n",
    "    #df.rename(columns={'value' : df['txt'][0]})\n",
    "    df['date'] = pd.to_datetime(df['date'])\n",
    "    df = df.sort_values(by='date')\n",
    "    \n",
    "    # Throw away useless columns\n",
    "    for col in list(df.columns.values):\n",
    "        if col not in new_cols:\n",
    "            df = df.drop(col, axis=1)\n",
    "    \n",
    "    # Return clean data\n",
    "    return df\n"
   ]
  },
  {
   "cell_type": "markdown",
   "metadata": {},
   "source": [
    "## Define function to leave only data of chosen frequency"
   ]
  },
  {
   "cell_type": "code",
   "execution_count": 5,
   "metadata": {},
   "outputs": [],
   "source": [
    "def to_frequency(dataframe, frequency = 'M'):\n",
    "    dataframe = dataframe.where(dataframe['freq'] == frequency)\n",
    "    dataframe = dataframe.dropna(axis=0, how='all')\n",
    "    dataframe.index = range(len(dataframe))\n",
    "    return dataframe"
   ]
  },
  {
   "cell_type": "markdown",
   "metadata": {},
   "source": [
    "# Preprocessing\n",
    "## Clean and regroup the data about inflation in Ukraine"
   ]
  },
  {
   "cell_type": "code",
   "execution_count": 6,
   "metadata": {},
   "outputs": [],
   "source": [
    "# Special function to \n",
    "def select_total(dictionary):\n",
    "    df = pd.DataFrame(dictionary)\n",
    "    \n",
    "    # 'ku' - for region of Ukraine. I choose 'ku' == None and change it \n",
    "    # to the value 100500, which is out of range of Ukrainian regions.\n",
    "    # 'tzep' - for absolute values.\n",
    "    df.fillna(value='100500', inplace=True)\n",
    "    df = df.where(df['ku'] == '100500')\n",
    "    df = df.where(df['tzep'] == 'DTPY_')  \n",
    "    \n",
    "    # Rename columns\n",
    "    df.rename(columns={'dt' : 'date'}, inplace = True)\n",
    "    df.rename(columns={'value' : df['txten'][0]})\n",
    "    \n",
    "    # Convert date column to datetime type and sort data by date\n",
    "    df['date'] = pd.to_datetime(df['date'])\n",
    "    df = df.sort_values(by='date')\n",
    "    df = df.where(df['mcrd081'] == 'Total').dropna(axis=0, how='all')\n",
    "    \n",
    "    # Delete all the useless information\n",
    "    new_cols = ['freq', 'value', 'date']\n",
    "    for col in list(df.columns.values):\n",
    "        if col not in new_cols:\n",
    "            df = df.drop(col, axis=1)\n",
    "                         \n",
    "    # Return \n",
    "    return df"
   ]
  },
  {
   "cell_type": "markdown",
   "metadata": {},
   "source": [
    "##  Define the dataset"
   ]
  },
  {
   "cell_type": "code",
   "execution_count": 7,
   "metadata": {},
   "outputs": [],
   "source": [
    "# Define dataset\n",
    "df_budget_income = to_frequency(df_cleaner(budget_income_dict), 'M')\n",
    "\n",
    "df_budget_expenses = to_frequency(df_cleaner(budget_expenses_dict), 'M')\n",
    "\n",
    "df_bank_income = to_frequency(df_cleaner(bank_income_dict), 'M')\n",
    "\n",
    "df_bank_expenses = to_frequency(df_cleaner(bank_expenses_dict), 'M')\n",
    "\n",
    "df_import = to_frequency(df_cleaner(ua_import_dict), 'Q') # pd.DataFrame(ua_import_dict) \n",
    "                          \n",
    "df_export = to_frequency(df_cleaner(ua_export_dict), 'Q') # pd.DataFrame(ua_export_dict)\n",
    "                         \n",
    "df_grossextdebt = to_frequency(df_cleaner(grossextdebt_dict), 'Q')\n",
    "                         \n",
    "df_gdp = to_frequency(df_cleaner(gross_domestic_product_dict), 'Q') # pd.DataFrame(gross_domestic_product_dict)\n",
    "\n",
    "df_inflation = to_frequency(select_total(inflation_dict), 'M') #pd.DataFrame(inflation_dict) \n",
    "\n",
    "#df_interest_trend = df_interest_trend.rename(columns={'Month' : 'date', 'курс валют: (Ukraine)' : 'interest trend'})\n",
    "\n",
    "gdp_2017 = pd.read_csv('data/UkraineGDP.csv')"
   ]
  },
  {
   "cell_type": "markdown",
   "metadata": {},
   "source": [
    "## Create new pandas dataframe to collect all the data"
   ]
  },
  {
   "cell_type": "code",
   "execution_count": 8,
   "metadata": {},
   "outputs": [],
   "source": [
    "df_total = exchange_rate.copy()"
   ]
  },
  {
   "cell_type": "markdown",
   "metadata": {},
   "source": [
    "#### Set date as an index"
   ]
  },
  {
   "cell_type": "code",
   "execution_count": 9,
   "metadata": {},
   "outputs": [],
   "source": [
    "df_total['date'] = pd.to_datetime(df_total['date'])\n",
    "df_total = df_total.set_index('date')"
   ]
  },
  {
   "cell_type": "markdown",
   "metadata": {},
   "source": [
    "#### Cut off data for 1998-2009"
   ]
  },
  {
   "cell_type": "code",
   "execution_count": 10,
   "metadata": {},
   "outputs": [],
   "source": [
    "df_total = df_total.loc[datetime.datetime(2010,1,1):datetime.datetime.now()]"
   ]
  },
  {
   "cell_type": "markdown",
   "metadata": {},
   "source": [
    "### 1. Gross domestic product"
   ]
  },
  {
   "cell_type": "markdown",
   "metadata": {},
   "source": [
    "#### Set date as index"
   ]
  },
  {
   "cell_type": "code",
   "execution_count": 11,
   "metadata": {},
   "outputs": [],
   "source": [
    "gdp_2017['freq'] = 'Q'\n",
    "gdp_2017['date'] = pd.to_datetime(gdp_2017['date'])\n",
    "gdp_2017 = gdp_2017.set_index('date')\n",
    "df_gdp = df_gdp.set_index('date')"
   ]
  },
  {
   "cell_type": "markdown",
   "metadata": {},
   "source": [
    "I did't have enough data about Ukrainian GDP, so I make an assumption, that GDP growth in 2018 (comparing with 2017) is 3.1%. In fact, the value 3.1% was taken here\n",
    "https://news.finance.ua/ua/news/-/417573/vvp-ukrayiny-prognozy-na-2018\n",
    "The same issue had been concerning the quartal data for the beginning of 2010, so I've taken value for 2011 and substracted the growth of GDP in 2010."
   ]
  },
  {
   "cell_type": "code",
   "execution_count": 12,
   "metadata": {},
   "outputs": [
    {
     "name": "stderr",
     "output_type": "stream",
     "text": [
      "/usr/local/lib/python3.6/site-packages/pandas/core/frame.py:6211: FutureWarning: Sorting because non-concatenation axis is not aligned. A future version\n",
      "of pandas will change to not sort by default.\n",
      "\n",
      "To accept the future behavior, pass 'sort=False'.\n",
      "\n",
      "To retain the current behavior and silence the warning, pass 'sort=True'.\n",
      "\n",
      "  sort=sort)\n"
     ]
    }
   ],
   "source": [
    "df_gdp = df_gdp.append(gdp_2017[1:])\n",
    "df_gdp.loc[datetime.datetime(2010,1,1)] = ['Q', df_gdp['value'][datetime.datetime(2010,4,1)] * (1-0.042)]\n",
    "df_gdp.loc[datetime.datetime(2018,1,1)] = ['Q', gdp_2017['value'][datetime.datetime(2017,1,1)] * 1.034]\n",
    "df_gdp.loc[datetime.datetime(2018,4,1)] = ['Q', gdp_2017['value'][datetime.datetime(2017,4,1)] * 1.034]\n",
    "df_gdp = df_gdp.sort_index()"
   ]
  },
  {
   "cell_type": "markdown",
   "metadata": {},
   "source": [
    "#### Change frequency of GDP to daily, missing values are replaced with interpolated"
   ]
  },
  {
   "cell_type": "code",
   "execution_count": 13,
   "metadata": {
    "scrolled": true
   },
   "outputs": [],
   "source": [
    "df_gdp = df_gdp.asfreq('D')"
   ]
  },
  {
   "cell_type": "code",
   "execution_count": 14,
   "metadata": {},
   "outputs": [],
   "source": [
    "df_gdp = df_gdp.apply(pd.Series.interpolate)"
   ]
  },
  {
   "cell_type": "markdown",
   "metadata": {},
   "source": [
    "### 2. Inflation"
   ]
  },
  {
   "cell_type": "markdown",
   "metadata": {},
   "source": [
    "#### Look through data"
   ]
  },
  {
   "cell_type": "code",
   "execution_count": 15,
   "metadata": {
    "scrolled": true
   },
   "outputs": [
    {
     "data": {
      "text/html": [
       "<div>\n",
       "<style scoped>\n",
       "    .dataframe tbody tr th:only-of-type {\n",
       "        vertical-align: middle;\n",
       "    }\n",
       "\n",
       "    .dataframe tbody tr th {\n",
       "        vertical-align: top;\n",
       "    }\n",
       "\n",
       "    .dataframe thead th {\n",
       "        text-align: right;\n",
       "    }\n",
       "</style>\n",
       "<table border=\"1\" class=\"dataframe\">\n",
       "  <thead>\n",
       "    <tr style=\"text-align: right;\">\n",
       "      <th></th>\n",
       "      <th>date</th>\n",
       "      <th>freq</th>\n",
       "      <th>value</th>\n",
       "    </tr>\n",
       "  </thead>\n",
       "  <tbody>\n",
       "    <tr>\n",
       "      <th>125</th>\n",
       "      <td>2017-07-01</td>\n",
       "      <td>M</td>\n",
       "      <td>7.9</td>\n",
       "    </tr>\n",
       "    <tr>\n",
       "      <th>126</th>\n",
       "      <td>2017-08-01</td>\n",
       "      <td>M</td>\n",
       "      <td>8.2</td>\n",
       "    </tr>\n",
       "    <tr>\n",
       "      <th>127</th>\n",
       "      <td>2017-09-01</td>\n",
       "      <td>M</td>\n",
       "      <td>8.1</td>\n",
       "    </tr>\n",
       "    <tr>\n",
       "      <th>128</th>\n",
       "      <td>2017-10-01</td>\n",
       "      <td>M</td>\n",
       "      <td>10.2</td>\n",
       "    </tr>\n",
       "    <tr>\n",
       "      <th>129</th>\n",
       "      <td>2017-11-01</td>\n",
       "      <td>M</td>\n",
       "      <td>11.5</td>\n",
       "    </tr>\n",
       "    <tr>\n",
       "      <th>130</th>\n",
       "      <td>2017-12-01</td>\n",
       "      <td>M</td>\n",
       "      <td>12.5</td>\n",
       "    </tr>\n",
       "    <tr>\n",
       "      <th>131</th>\n",
       "      <td>2018-01-01</td>\n",
       "      <td>M</td>\n",
       "      <td>13.7</td>\n",
       "    </tr>\n",
       "    <tr>\n",
       "      <th>132</th>\n",
       "      <td>2018-02-01</td>\n",
       "      <td>M</td>\n",
       "      <td>1.5</td>\n",
       "    </tr>\n",
       "  </tbody>\n",
       "</table>\n",
       "</div>"
      ],
      "text/plain": [
       "          date freq  value\n",
       "125 2017-07-01    M    7.9\n",
       "126 2017-08-01    M    8.2\n",
       "127 2017-09-01    M    8.1\n",
       "128 2017-10-01    M   10.2\n",
       "129 2017-11-01    M   11.5\n",
       "130 2017-12-01    M   12.5\n",
       "131 2018-01-01    M   13.7\n",
       "132 2018-02-01    M    1.5"
      ]
     },
     "execution_count": 15,
     "metadata": {},
     "output_type": "execute_result"
    }
   ],
   "source": [
    "df_inflation[-8:]"
   ]
  },
  {
   "cell_type": "markdown",
   "metadata": {},
   "source": [
    "####  Set date as index"
   ]
  },
  {
   "cell_type": "code",
   "execution_count": 16,
   "metadata": {},
   "outputs": [],
   "source": [
    "df_inflation['date'] = pd.to_datetime(df_inflation['date'])\n",
    "df_inflation = df_inflation.set_index('date')"
   ]
  },
  {
   "cell_type": "markdown",
   "metadata": {},
   "source": [
    "#### Prices' growth during last 8 years"
   ]
  },
  {
   "cell_type": "code",
   "execution_count": 17,
   "metadata": {
    "scrolled": false
   },
   "outputs": [
    {
     "data": {
      "image/png": "[encoded data removed]",
      "text/plain": [
       "<Figure size 720x360 with 1 Axes>"
      ]
     },
     "metadata": {
      "needs_background": "light"
     },
     "output_type": "display_data"
    }
   ],
   "source": [
    "plt.figure(figsize=[10,5])\n",
    "plt.plot(df_inflation['value'], color='g')\n",
    "plt.title('Inflation in Ukraine since 2010', fontsize='16')\n",
    "plt.xlabel('Years')\n",
    "plt.ylabel('Inflation, %')\n",
    "plt.show()"
   ]
  },
  {
   "cell_type": "markdown",
   "metadata": {},
   "source": [
    "#### Another assumption, based on information from this link https://index.minfin.com.ua/economy/index/inflation/"
   ]
  },
  {
   "cell_type": "markdown",
   "metadata": {},
   "source": [
    "I suppose, that inflation in March 2018 changed by 2.4%, which is mean value for two previous months."
   ]
  },
  {
   "cell_type": "code",
   "execution_count": 18,
   "metadata": {},
   "outputs": [],
   "source": [
    "df_inflation = df_inflation.loc['20100101':datetime.date.today()]\n",
    "hypothethic_inflation = ['Q', df_inflation['value'][datetime.datetime(2018,2,1)] * 1.024]\n",
    "df_inflation.loc[datetime.datetime(2018,4,1)] = hypothethic_inflation"
   ]
  },
  {
   "cell_type": "markdown",
   "metadata": {},
   "source": [
    "#### Daily frequency is required"
   ]
  },
  {
   "cell_type": "code",
   "execution_count": 19,
   "metadata": {},
   "outputs": [],
   "source": [
    "df_inflation = df_inflation.asfreq('D')\n",
    "df_inflation = df_inflation.apply(pd.Series.interpolate)"
   ]
  },
  {
   "cell_type": "markdown",
   "metadata": {},
   "source": [
    "### 3. Exports"
   ]
  },
  {
   "cell_type": "markdown",
   "metadata": {},
   "source": [
    "#### As usual, use date instead of numerical index"
   ]
  },
  {
   "cell_type": "code",
   "execution_count": 20,
   "metadata": {},
   "outputs": [],
   "source": [
    "df_export['date'] = pd.to_datetime(df_export['date'])\n",
    "df_export = df_export.set_index('date')"
   ]
  },
  {
   "cell_type": "markdown",
   "metadata": {},
   "source": [
    "#### Figure out boundary values"
   ]
  },
  {
   "cell_type": "markdown",
   "metadata": {},
   "source": [
    "I took information about exports and imports in the fourth quarter from this document:\n",
    "https://bank.gov.ua/doccatalog/document?id=25173322\n",
    "Despite it was uploaded to the NBU website, this information hadn't been uploaded to the NBU API webpage, so I have had to input it manually.\n",
    "One more hypothesis is, that such old data like exports in the first quarter of 2010 doesn't play a big role in the forecast, so I've decided to use the duplicate the initial data for the preceding period."
   ]
  },
  {
   "cell_type": "code",
   "execution_count": 21,
   "metadata": {
    "scrolled": true
   },
   "outputs": [],
   "source": [
    "hypothethic_export = ['Q', df_export['value'][0]]\n",
    "df_export.loc[datetime.datetime(2010,1,1)] = hypothethic_export\n",
    "hypothethic_export = ['Q', df_export['value'][datetime.datetime(2017,1,1)] * 1.183]\n",
    "df_export.loc[datetime.datetime(2018,4,1)] = hypothethic_export\n",
    "df_export = df_export.sort_index()"
   ]
  },
  {
   "cell_type": "markdown",
   "metadata": {},
   "source": [
    "#### Set frequency to daily and use interpolation to fill missing values"
   ]
  },
  {
   "cell_type": "code",
   "execution_count": 22,
   "metadata": {},
   "outputs": [],
   "source": [
    "df_export = df_export.asfreq('D')\n",
    "df_export = df_export.apply(pd.Series.interpolate)"
   ]
  },
  {
   "cell_type": "markdown",
   "metadata": {},
   "source": [
    "### 4. Imports"
   ]
  },
  {
   "cell_type": "markdown",
   "metadata": {},
   "source": [
    "#### Set data as index"
   ]
  },
  {
   "cell_type": "code",
   "execution_count": 23,
   "metadata": {},
   "outputs": [],
   "source": [
    "df_import['date'] = pd.to_datetime(df_import['date'])\n",
    "df_import = df_import.set_index('date')"
   ]
  },
  {
   "cell_type": "markdown",
   "metadata": {},
   "source": [
    "#### The same hypothesis, as for exports"
   ]
  },
  {
   "cell_type": "code",
   "execution_count": 24,
   "metadata": {},
   "outputs": [],
   "source": [
    "df_import.loc[datetime.datetime(2010,1,1)] = ['Q', df_import['value'][0]]\n",
    "\n",
    "hypothethic_import = ['Q', df_import['value'][datetime.datetime(2017,1,1)] * 1.211]\n",
    "df_import.loc[datetime.datetime(2018,4,1)] = hypothethic_import\n",
    "\n",
    "df_import = df_import.sort_index()"
   ]
  },
  {
   "cell_type": "markdown",
   "metadata": {},
   "source": [
    "#### Resign values, change frequency to daily and replace 'nan's with interpolated data"
   ]
  },
  {
   "cell_type": "markdown",
   "metadata": {},
   "source": [
    " Interesting fact: all recorded imports data in the NBU API have negetive sign. "
   ]
  },
  {
   "cell_type": "code",
   "execution_count": 25,
   "metadata": {},
   "outputs": [],
   "source": [
    "df_import['value'] = - df_import['value']"
   ]
  },
  {
   "cell_type": "code",
   "execution_count": 26,
   "metadata": {},
   "outputs": [],
   "source": [
    "df_import = df_import.asfreq('D')\n",
    "df_import = df_import.apply(pd.Series.interpolate)"
   ]
  },
  {
   "cell_type": "markdown",
   "metadata": {},
   "source": [
    "#### Trade balance plot"
   ]
  },
  {
   "cell_type": "code",
   "execution_count": 27,
   "metadata": {
    "scrolled": false
   },
   "outputs": [
    {
     "data": {
      "image/png": "[encoded data removed]",
      "text/plain": [
       "<Figure size 1080x360 with 1 Axes>"
      ]
     },
     "metadata": {
      "needs_background": "light"
     },
     "output_type": "display_data"
    }
   ],
   "source": [
    "plt.figure(figsize=[15,5])\n",
    "\n",
    "plt.plot((df_export['value'].loc['20100401':'20180101']).divide(df_total['exchange rate'].loc['20100401':'20180101']) / 1000)\n",
    "plt.plot((df_import['value'].loc['20100401':'20180101']).divide(df_total['exchange rate'].loc['20100401':'20180101']) / 1000)\n",
    "plt.plot(((df_import['value'] - df_export['value']).loc['20100401':'20180101']).divide(df_total['exchange rate'].loc['20100401':'20180101']) / 1000)\n",
    "\n",
    "plt.legend(['Export','Import', 'Trade balance'])\n",
    "plt.title('Ukrainian trade balance in 2010-2018 in USD')\n",
    "plt.xlabel('Years')\n",
    "plt.ylabel('Billions $')\n",
    "plt.show()"
   ]
  },
  {
   "cell_type": "markdown",
   "metadata": {},
   "source": [
    "### 4. Gross Extended Debt"
   ]
  },
  {
   "cell_type": "markdown",
   "metadata": {},
   "source": [
    "#### Replace numerical index with date"
   ]
  },
  {
   "cell_type": "code",
   "execution_count": 28,
   "metadata": {},
   "outputs": [],
   "source": [
    "df_grossextdebt['date'] = pd.to_datetime(df_grossextdebt['date'])\n",
    "df_grossextdebt = df_grossextdebt.set_index('date')"
   ]
  },
  {
   "cell_type": "markdown",
   "metadata": {
    "collapsed": true
   },
   "source": [
    "#### Information taken manually here https://bank.gov.ua/doccatalog/document?id=36693528, also it hadn't been added to the API."
   ]
  },
  {
   "cell_type": "code",
   "execution_count": 29,
   "metadata": {},
   "outputs": [],
   "source": [
    "df_grossextdebt.loc[datetime.datetime(2018,1,1)] = ['Q', 116578.0]\n",
    "t = 2 * df_grossextdebt['value'][datetime.datetime(2018,1,1)] - df_grossextdebt['value'][datetime.datetime(2017,10,1)]\n",
    "df_grossextdebt.loc[datetime.datetime(2018,4,1)] = ['Q', t]"
   ]
  },
  {
   "cell_type": "code",
   "execution_count": 30,
   "metadata": {},
   "outputs": [],
   "source": [
    "df_grossextdebt = df_grossextdebt.loc['20100101':datetime.datetime.now()]"
   ]
  },
  {
   "cell_type": "markdown",
   "metadata": {},
   "source": [
    "#### Daily frequency "
   ]
  },
  {
   "cell_type": "code",
   "execution_count": 31,
   "metadata": {},
   "outputs": [],
   "source": [
    "df_grossextdebt = df_grossextdebt.asfreq('D')\n",
    "df_grossextdebt = df_grossextdebt.apply(pd.Series.interpolate)"
   ]
  },
  {
   "cell_type": "markdown",
   "metadata": {},
   "source": [
    "#### Change of Gross extended debt plot"
   ]
  },
  {
   "cell_type": "code",
   "execution_count": 32,
   "metadata": {},
   "outputs": [
    {
     "data": {
      "image/png": "[encoded data removed]",
      "text/plain": [
       "<Figure size 720x360 with 1 Axes>"
      ]
     },
     "metadata": {
      "needs_background": "light"
     },
     "output_type": "display_data"
    }
   ],
   "source": [
    "plt.figure(figsize=[10,5])\n",
    "plt.plot(df_grossextdebt['value'], color='r', linewidth='2')\n",
    "plt.title('Gross Extended Debt', fontsize='14')\n",
    "plt.xlabel('Years')\n",
    "plt.ylabel('Billions $')\n",
    "plt.show()"
   ]
  },
  {
   "cell_type": "markdown",
   "metadata": {},
   "source": [
    "### 5. Trend of interest"
   ]
  },
  {
   "cell_type": "markdown",
   "metadata": {},
   "source": [
    "#### Interest trend has been taken from the Google Trends (https://trends.google.com/trends/), topic: \"_курс валют_\".\n"
   ]
  },
  {
   "cell_type": "code",
   "execution_count": 36,
   "metadata": {
    "scrolled": false
   },
   "outputs": [],
   "source": [
    "df_interest_trend['date'] = pd.to_datetime(df_interest_trend['Month'])\n",
    "df_interest_trend = df_interest_trend.set_index('date')"
   ]
  },
  {
   "cell_type": "markdown",
   "metadata": {},
   "source": [
    "#### I delete next string of code after data for April appeared"
   ]
  },
  {
   "cell_type": "code",
   "execution_count": 39,
   "metadata": {},
   "outputs": [],
   "source": [
    "df_interest_trend.loc[datetime.datetime(2018,4,1)] = df_interest_trend['курс валют: (Ukraine)'][datetime.datetime(2018,3,1)]"
   ]
  },
  {
   "cell_type": "markdown",
   "metadata": {},
   "source": [
    "#### Slice the period, set daily frequency and replace missing data with interpolated."
   ]
  },
  {
   "cell_type": "code",
   "execution_count": 40,
   "metadata": {},
   "outputs": [],
   "source": [
    "df_interest_trend = df_interest_trend.loc['20100101':datetime.datetime.now()]"
   ]
  },
  {
   "cell_type": "code",
   "execution_count": 41,
   "metadata": {},
   "outputs": [],
   "source": [
    "df_interest_trend = df_interest_trend.asfreq('D')\n",
    "df_interest_trend = df_interest_trend.apply(pd.Series.interpolate)"
   ]
  },
  {
   "cell_type": "code",
   "execution_count": 48,
   "metadata": {},
   "outputs": [],
   "source": [
    "df_interest_trend.drop(['Month'], axis=1, inplace=True)"
   ]
  },
  {
   "cell_type": "code",
   "execution_count": 59,
   "metadata": {},
   "outputs": [],
   "source": [
    "df_interest_trend.columns = ['rate']"
   ]
  },
  {
   "cell_type": "markdown",
   "metadata": {},
   "source": [
    "### Unite it all together"
   ]
  },
  {
   "cell_type": "code",
   "execution_count": 60,
   "metadata": {},
   "outputs": [],
   "source": [
    "df_total['GDP'] = df_gdp['value']\n",
    "df_total['Inflation'] = df_inflation['value']\n",
    "df_total['Export'] = df_export['value']\n",
    "df_total['Import'] = df_import['value']\n",
    "df_total['GrossExtDebt'] = df_grossextdebt['value']\n",
    "df_total['Interest Trend'] = df_interest_trend"
   ]
  },
  {
   "cell_type": "markdown",
   "metadata": {
    "collapsed": true
   },
   "source": [
    "#### Add extra feature, showing Ukrainian GDP in United States Dollars "
   ]
  },
  {
   "cell_type": "code",
   "execution_count": 61,
   "metadata": {
    "scrolled": true
   },
   "outputs": [],
   "source": [
    "df_total['GDP in $'] = df_total['GDP'].divide(df_total['exchange rate'])"
   ]
  },
  {
   "cell_type": "markdown",
   "metadata": {},
   "source": [
    "#### The difference between gross domestic product in USD (left plot) and UAH (right plot)"
   ]
  },
  {
   "cell_type": "code",
   "execution_count": 62,
   "metadata": {
    "scrolled": true
   },
   "outputs": [
    {
     "data": {
      "image/png": "[encoded data removed]",
      "text/plain": [
       "<Figure size 1440x504 with 2 Axes>"
      ]
     },
     "metadata": {
      "needs_background": "light"
     },
     "output_type": "display_data"
    }
   ],
   "source": [
    "plt.figure(figsize=[20,7])\n",
    "plt.subplot(1,2,1)\n",
    "plt.plot(df_total['GDP in $'], color='#08A208')\n",
    "plt.title('Gross Domestic Product in USD', fontsize='16')\n",
    "plt.xlabel('Year')\n",
    "plt.ylabel(\"Gross Domestic Product in millions USD\")\n",
    "plt.subplot(1,2,2)\n",
    "plt.title('Gross Domestic Product in UAH', fontsize='16')\n",
    "plt.xlabel('Year')\n",
    "plt.ylabel(\"Gross Domestic Product in millions UAH\")\n",
    "plt.plot(df_total['GDP'], color=\"#B72893\")\n",
    "plt.show()"
   ]
  },
  {
   "cell_type": "markdown",
   "metadata": {
    "collapsed": true
   },
   "source": [
    "##### Save data to CSV"
   ]
  },
  {
   "cell_type": "code",
   "execution_count": 64,
   "metadata": {},
   "outputs": [],
   "source": [
    "df_total.to_csv('data/dataset.csv')"
   ]
  },
  {
   "cell_type": "code",
   "execution_count": 65,
   "metadata": {},
   "outputs": [
    {
     "data": {
      "text/html": [
       "<div>\n",
       "<style scoped>\n",
       "    .dataframe tbody tr th:only-of-type {\n",
       "        vertical-align: middle;\n",
       "    }\n",
       "\n",
       "    .dataframe tbody tr th {\n",
       "        vertical-align: top;\n",
       "    }\n",
       "\n",
       "    .dataframe thead th {\n",
       "        text-align: right;\n",
       "    }\n",
       "</style>\n",
       "<table border=\"1\" class=\"dataframe\">\n",
       "  <thead>\n",
       "    <tr style=\"text-align: right;\">\n",
       "      <th></th>\n",
       "      <th>exchange rate</th>\n",
       "      <th>GDP</th>\n",
       "      <th>Inflation</th>\n",
       "      <th>Export</th>\n",
       "      <th>Import</th>\n",
       "      <th>GrossExtDebt</th>\n",
       "      <th>Interest Trend</th>\n",
       "      <th>GDP in $</th>\n",
       "    </tr>\n",
       "    <tr>\n",
       "      <th>date</th>\n",
       "      <th></th>\n",
       "      <th></th>\n",
       "      <th></th>\n",
       "      <th></th>\n",
       "      <th></th>\n",
       "      <th></th>\n",
       "      <th></th>\n",
       "      <th></th>\n",
       "    </tr>\n",
       "  </thead>\n",
       "  <tbody>\n",
       "    <tr>\n",
       "      <th>2010-01-01</th>\n",
       "      <td>7.985000</td>\n",
       "      <td>207956.892000</td>\n",
       "      <td>12.300000</td>\n",
       "      <td>106050.000000</td>\n",
       "      <td>109445.000000</td>\n",
       "      <td>103432.000000</td>\n",
       "      <td>26.000000</td>\n",
       "      <td>26043.442956</td>\n",
       "    </tr>\n",
       "    <tr>\n",
       "      <th>2010-01-02</th>\n",
       "      <td>7.985000</td>\n",
       "      <td>208058.193200</td>\n",
       "      <td>11.961290</td>\n",
       "      <td>106050.000000</td>\n",
       "      <td>109445.000000</td>\n",
       "      <td>103426.500000</td>\n",
       "      <td>25.903226</td>\n",
       "      <td>26056.129393</td>\n",
       "    </tr>\n",
       "    <tr>\n",
       "      <th>2010-01-03</th>\n",
       "      <td>7.985000</td>\n",
       "      <td>208159.494400</td>\n",
       "      <td>11.622581</td>\n",
       "      <td>106050.000000</td>\n",
       "      <td>109445.000000</td>\n",
       "      <td>103421.000000</td>\n",
       "      <td>25.806452</td>\n",
       "      <td>26068.815830</td>\n",
       "    </tr>\n",
       "    <tr>\n",
       "      <th>2010-01-04</th>\n",
       "      <td>7.985000</td>\n",
       "      <td>208260.795600</td>\n",
       "      <td>11.283871</td>\n",
       "      <td>106050.000000</td>\n",
       "      <td>109445.000000</td>\n",
       "      <td>103415.500000</td>\n",
       "      <td>25.709677</td>\n",
       "      <td>26081.502267</td>\n",
       "    </tr>\n",
       "    <tr>\n",
       "      <th>2010-01-05</th>\n",
       "      <td>7.985000</td>\n",
       "      <td>208362.096800</td>\n",
       "      <td>10.945161</td>\n",
       "      <td>106050.000000</td>\n",
       "      <td>109445.000000</td>\n",
       "      <td>103410.000000</td>\n",
       "      <td>25.612903</td>\n",
       "      <td>26094.188704</td>\n",
       "    </tr>\n",
       "    <tr>\n",
       "      <th>2010-01-06</th>\n",
       "      <td>7.985000</td>\n",
       "      <td>208463.398000</td>\n",
       "      <td>10.606452</td>\n",
       "      <td>106050.000000</td>\n",
       "      <td>109445.000000</td>\n",
       "      <td>103404.500000</td>\n",
       "      <td>25.516129</td>\n",
       "      <td>26106.875141</td>\n",
       "    </tr>\n",
       "    <tr>\n",
       "      <th>2010-01-07</th>\n",
       "      <td>7.985000</td>\n",
       "      <td>208564.699200</td>\n",
       "      <td>10.267742</td>\n",
       "      <td>106050.000000</td>\n",
       "      <td>109445.000000</td>\n",
       "      <td>103399.000000</td>\n",
       "      <td>25.419355</td>\n",
       "      <td>26119.561578</td>\n",
       "    </tr>\n",
       "    <tr>\n",
       "      <th>2010-01-08</th>\n",
       "      <td>7.985000</td>\n",
       "      <td>208666.000400</td>\n",
       "      <td>9.929032</td>\n",
       "      <td>106050.000000</td>\n",
       "      <td>109445.000000</td>\n",
       "      <td>103393.500000</td>\n",
       "      <td>25.322581</td>\n",
       "      <td>26132.248015</td>\n",
       "    </tr>\n",
       "    <tr>\n",
       "      <th>2010-01-09</th>\n",
       "      <td>7.985000</td>\n",
       "      <td>208767.301600</td>\n",
       "      <td>9.590323</td>\n",
       "      <td>106050.000000</td>\n",
       "      <td>109445.000000</td>\n",
       "      <td>103388.000000</td>\n",
       "      <td>25.225806</td>\n",
       "      <td>26144.934452</td>\n",
       "    </tr>\n",
       "    <tr>\n",
       "      <th>2010-01-10</th>\n",
       "      <td>7.985000</td>\n",
       "      <td>208868.602800</td>\n",
       "      <td>9.251613</td>\n",
       "      <td>106050.000000</td>\n",
       "      <td>109445.000000</td>\n",
       "      <td>103382.500000</td>\n",
       "      <td>25.129032</td>\n",
       "      <td>26157.620889</td>\n",
       "    </tr>\n",
       "    <tr>\n",
       "      <th>2010-01-11</th>\n",
       "      <td>7.985000</td>\n",
       "      <td>208969.904000</td>\n",
       "      <td>8.912903</td>\n",
       "      <td>106050.000000</td>\n",
       "      <td>109445.000000</td>\n",
       "      <td>103377.000000</td>\n",
       "      <td>25.032258</td>\n",
       "      <td>26170.307326</td>\n",
       "    </tr>\n",
       "    <tr>\n",
       "      <th>2010-01-12</th>\n",
       "      <td>7.990500</td>\n",
       "      <td>209071.205200</td>\n",
       "      <td>8.574194</td>\n",
       "      <td>106050.000000</td>\n",
       "      <td>109445.000000</td>\n",
       "      <td>103371.500000</td>\n",
       "      <td>24.935484</td>\n",
       "      <td>26164.971554</td>\n",
       "    </tr>\n",
       "    <tr>\n",
       "      <th>2010-01-13</th>\n",
       "      <td>7.998400</td>\n",
       "      <td>209172.506400</td>\n",
       "      <td>8.235484</td>\n",
       "      <td>106050.000000</td>\n",
       "      <td>109445.000000</td>\n",
       "      <td>103366.000000</td>\n",
       "      <td>24.838710</td>\n",
       "      <td>26151.793659</td>\n",
       "    </tr>\n",
       "    <tr>\n",
       "      <th>2010-01-14</th>\n",
       "      <td>8.004000</td>\n",
       "      <td>209273.807600</td>\n",
       "      <td>7.896774</td>\n",
       "      <td>106050.000000</td>\n",
       "      <td>109445.000000</td>\n",
       "      <td>103360.500000</td>\n",
       "      <td>24.741935</td>\n",
       "      <td>26146.152874</td>\n",
       "    </tr>\n",
       "    <tr>\n",
       "      <th>2010-01-15</th>\n",
       "      <td>8.002400</td>\n",
       "      <td>209375.108800</td>\n",
       "      <td>7.558065</td>\n",
       "      <td>106050.000000</td>\n",
       "      <td>109445.000000</td>\n",
       "      <td>103355.000000</td>\n",
       "      <td>24.645161</td>\n",
       "      <td>26164.039388</td>\n",
       "    </tr>\n",
       "    <tr>\n",
       "      <th>2010-01-16</th>\n",
       "      <td>8.002400</td>\n",
       "      <td>209476.410000</td>\n",
       "      <td>7.219355</td>\n",
       "      <td>106050.000000</td>\n",
       "      <td>109445.000000</td>\n",
       "      <td>103349.500000</td>\n",
       "      <td>24.548387</td>\n",
       "      <td>26176.698241</td>\n",
       "    </tr>\n",
       "    <tr>\n",
       "      <th>2010-01-17</th>\n",
       "      <td>8.002400</td>\n",
       "      <td>209577.711200</td>\n",
       "      <td>6.880645</td>\n",
       "      <td>106050.000000</td>\n",
       "      <td>109445.000000</td>\n",
       "      <td>103344.000000</td>\n",
       "      <td>24.451613</td>\n",
       "      <td>26189.357093</td>\n",
       "    </tr>\n",
       "    <tr>\n",
       "      <th>2010-01-18</th>\n",
       "      <td>8.001200</td>\n",
       "      <td>209679.012400</td>\n",
       "      <td>6.541935</td>\n",
       "      <td>106050.000000</td>\n",
       "      <td>109445.000000</td>\n",
       "      <td>103338.500000</td>\n",
       "      <td>24.354839</td>\n",
       "      <td>26205.945658</td>\n",
       "    </tr>\n",
       "    <tr>\n",
       "      <th>2010-01-19</th>\n",
       "      <td>8.001200</td>\n",
       "      <td>209780.313600</td>\n",
       "      <td>6.203226</td>\n",
       "      <td>106050.000000</td>\n",
       "      <td>109445.000000</td>\n",
       "      <td>103333.000000</td>\n",
       "      <td>24.258065</td>\n",
       "      <td>26218.606409</td>\n",
       "    </tr>\n",
       "    <tr>\n",
       "      <th>2010-01-20</th>\n",
       "      <td>8.005500</td>\n",
       "      <td>209881.614800</td>\n",
       "      <td>5.864516</td>\n",
       "      <td>106050.000000</td>\n",
       "      <td>109445.000000</td>\n",
       "      <td>103327.500000</td>\n",
       "      <td>24.161290</td>\n",
       "      <td>26217.177540</td>\n",
       "    </tr>\n",
       "    <tr>\n",
       "      <th>2010-01-21</th>\n",
       "      <td>8.005500</td>\n",
       "      <td>209982.916000</td>\n",
       "      <td>5.525806</td>\n",
       "      <td>106050.000000</td>\n",
       "      <td>109445.000000</td>\n",
       "      <td>103322.000000</td>\n",
       "      <td>24.064516</td>\n",
       "      <td>26229.831491</td>\n",
       "    </tr>\n",
       "    <tr>\n",
       "      <th>2010-01-22</th>\n",
       "      <td>8.010000</td>\n",
       "      <td>210084.217200</td>\n",
       "      <td>5.187097</td>\n",
       "      <td>106050.000000</td>\n",
       "      <td>109445.000000</td>\n",
       "      <td>103316.500000</td>\n",
       "      <td>23.967742</td>\n",
       "      <td>26227.742472</td>\n",
       "    </tr>\n",
       "    <tr>\n",
       "      <th>2010-01-23</th>\n",
       "      <td>8.010000</td>\n",
       "      <td>210185.518400</td>\n",
       "      <td>4.848387</td>\n",
       "      <td>106050.000000</td>\n",
       "      <td>109445.000000</td>\n",
       "      <td>103311.000000</td>\n",
       "      <td>23.870968</td>\n",
       "      <td>26240.389313</td>\n",
       "    </tr>\n",
       "    <tr>\n",
       "      <th>2010-01-24</th>\n",
       "      <td>8.010000</td>\n",
       "      <td>210286.819600</td>\n",
       "      <td>4.509677</td>\n",
       "      <td>106050.000000</td>\n",
       "      <td>109445.000000</td>\n",
       "      <td>103305.500000</td>\n",
       "      <td>23.774194</td>\n",
       "      <td>26253.036155</td>\n",
       "    </tr>\n",
       "    <tr>\n",
       "      <th>2010-01-25</th>\n",
       "      <td>8.008400</td>\n",
       "      <td>210388.120800</td>\n",
       "      <td>4.170968</td>\n",
       "      <td>106050.000000</td>\n",
       "      <td>109445.000000</td>\n",
       "      <td>103300.000000</td>\n",
       "      <td>23.677419</td>\n",
       "      <td>26270.930623</td>\n",
       "    </tr>\n",
       "    <tr>\n",
       "      <th>2010-01-26</th>\n",
       "      <td>8.008000</td>\n",
       "      <td>210489.422000</td>\n",
       "      <td>3.832258</td>\n",
       "      <td>106050.000000</td>\n",
       "      <td>109445.000000</td>\n",
       "      <td>103294.500000</td>\n",
       "      <td>23.580645</td>\n",
       "      <td>26284.892857</td>\n",
       "    </tr>\n",
       "    <tr>\n",
       "      <th>2010-01-27</th>\n",
       "      <td>8.004800</td>\n",
       "      <td>210590.723200</td>\n",
       "      <td>3.493548</td>\n",
       "      <td>106050.000000</td>\n",
       "      <td>109445.000000</td>\n",
       "      <td>103289.000000</td>\n",
       "      <td>23.483871</td>\n",
       "      <td>26308.055567</td>\n",
       "    </tr>\n",
       "    <tr>\n",
       "      <th>2010-01-28</th>\n",
       "      <td>8.002400</td>\n",
       "      <td>210692.024400</td>\n",
       "      <td>3.154839</td>\n",
       "      <td>106050.000000</td>\n",
       "      <td>109445.000000</td>\n",
       "      <td>103283.500000</td>\n",
       "      <td>23.387097</td>\n",
       "      <td>26328.604469</td>\n",
       "    </tr>\n",
       "    <tr>\n",
       "      <th>2010-01-29</th>\n",
       "      <td>8.001200</td>\n",
       "      <td>210793.325600</td>\n",
       "      <td>2.816129</td>\n",
       "      <td>106050.000000</td>\n",
       "      <td>109445.000000</td>\n",
       "      <td>103278.000000</td>\n",
       "      <td>23.290323</td>\n",
       "      <td>26345.213918</td>\n",
       "    </tr>\n",
       "    <tr>\n",
       "      <th>2010-01-30</th>\n",
       "      <td>8.001200</td>\n",
       "      <td>210894.626800</td>\n",
       "      <td>2.477419</td>\n",
       "      <td>106050.000000</td>\n",
       "      <td>109445.000000</td>\n",
       "      <td>103272.500000</td>\n",
       "      <td>23.193548</td>\n",
       "      <td>26357.874669</td>\n",
       "    </tr>\n",
       "    <tr>\n",
       "      <th>...</th>\n",
       "      <td>...</td>\n",
       "      <td>...</td>\n",
       "      <td>...</td>\n",
       "      <td>...</td>\n",
       "      <td>...</td>\n",
       "      <td>...</td>\n",
       "      <td>...</td>\n",
       "      <td>...</td>\n",
       "    </tr>\n",
       "    <tr>\n",
       "      <th>2018-02-21</th>\n",
       "      <td>27.072945</td>\n",
       "      <td>654316.027200</td>\n",
       "      <td>1.512203</td>\n",
       "      <td>397197.362743</td>\n",
       "      <td>459272.000000</td>\n",
       "      <td>116140.533333</td>\n",
       "      <td>29.857143</td>\n",
       "      <td>24168.631348</td>\n",
       "    </tr>\n",
       "    <tr>\n",
       "      <th>2018-02-22</th>\n",
       "      <td>26.988039</td>\n",
       "      <td>655163.355733</td>\n",
       "      <td>1.512814</td>\n",
       "      <td>397334.216980</td>\n",
       "      <td>459450.538462</td>\n",
       "      <td>116131.955556</td>\n",
       "      <td>29.750000</td>\n",
       "      <td>24276.063768</td>\n",
       "    </tr>\n",
       "    <tr>\n",
       "      <th>2018-02-23</th>\n",
       "      <td>27.071843</td>\n",
       "      <td>656010.684267</td>\n",
       "      <td>1.513424</td>\n",
       "      <td>397471.071218</td>\n",
       "      <td>459629.076923</td>\n",
       "      <td>116123.377778</td>\n",
       "      <td>29.642857</td>\n",
       "      <td>24232.213679</td>\n",
       "    </tr>\n",
       "    <tr>\n",
       "      <th>2018-02-24</th>\n",
       "      <td>27.071843</td>\n",
       "      <td>656858.012800</td>\n",
       "      <td>1.514034</td>\n",
       "      <td>397607.925455</td>\n",
       "      <td>459807.615385</td>\n",
       "      <td>116114.800000</td>\n",
       "      <td>29.535714</td>\n",
       "      <td>24263.512935</td>\n",
       "    </tr>\n",
       "    <tr>\n",
       "      <th>2018-02-25</th>\n",
       "      <td>27.071843</td>\n",
       "      <td>657705.341333</td>\n",
       "      <td>1.514644</td>\n",
       "      <td>397744.779692</td>\n",
       "      <td>459986.153846</td>\n",
       "      <td>116106.222222</td>\n",
       "      <td>29.428571</td>\n",
       "      <td>24294.812190</td>\n",
       "    </tr>\n",
       "    <tr>\n",
       "      <th>2018-02-26</th>\n",
       "      <td>26.988658</td>\n",
       "      <td>658552.669867</td>\n",
       "      <td>1.515254</td>\n",
       "      <td>397881.633930</td>\n",
       "      <td>460164.692308</td>\n",
       "      <td>116097.644444</td>\n",
       "      <td>29.321429</td>\n",
       "      <td>24401.089890</td>\n",
       "    </tr>\n",
       "    <tr>\n",
       "      <th>2018-02-27</th>\n",
       "      <td>27.006610</td>\n",
       "      <td>659399.998400</td>\n",
       "      <td>1.515864</td>\n",
       "      <td>398018.488167</td>\n",
       "      <td>460343.230769</td>\n",
       "      <td>116089.066667</td>\n",
       "      <td>29.214286</td>\n",
       "      <td>24416.244705</td>\n",
       "    </tr>\n",
       "    <tr>\n",
       "      <th>2018-02-28</th>\n",
       "      <td>26.948185</td>\n",
       "      <td>660247.326933</td>\n",
       "      <td>1.516475</td>\n",
       "      <td>398155.342404</td>\n",
       "      <td>460521.769231</td>\n",
       "      <td>116080.488889</td>\n",
       "      <td>29.107143</td>\n",
       "      <td>24500.623212</td>\n",
       "    </tr>\n",
       "    <tr>\n",
       "      <th>2018-03-01</th>\n",
       "      <td>26.805516</td>\n",
       "      <td>661094.655467</td>\n",
       "      <td>1.517085</td>\n",
       "      <td>398292.196642</td>\n",
       "      <td>460700.307692</td>\n",
       "      <td>116071.911111</td>\n",
       "      <td>29.000000</td>\n",
       "      <td>24662.634939</td>\n",
       "    </tr>\n",
       "    <tr>\n",
       "      <th>2018-03-02</th>\n",
       "      <td>26.669496</td>\n",
       "      <td>661941.984000</td>\n",
       "      <td>1.517695</td>\n",
       "      <td>398429.050879</td>\n",
       "      <td>460878.846154</td>\n",
       "      <td>116063.333333</td>\n",
       "      <td>29.000000</td>\n",
       "      <td>24820.190978</td>\n",
       "    </tr>\n",
       "    <tr>\n",
       "      <th>2018-03-03</th>\n",
       "      <td>26.535904</td>\n",
       "      <td>662789.312533</td>\n",
       "      <td>1.518305</td>\n",
       "      <td>398565.905116</td>\n",
       "      <td>461057.384615</td>\n",
       "      <td>116054.755556</td>\n",
       "      <td>29.000000</td>\n",
       "      <td>24977.076814</td>\n",
       "    </tr>\n",
       "    <tr>\n",
       "      <th>2018-03-04</th>\n",
       "      <td>26.535904</td>\n",
       "      <td>663636.641067</td>\n",
       "      <td>1.518915</td>\n",
       "      <td>398702.759354</td>\n",
       "      <td>461235.923077</td>\n",
       "      <td>116046.177778</td>\n",
       "      <td>29.000000</td>\n",
       "      <td>25009.008213</td>\n",
       "    </tr>\n",
       "    <tr>\n",
       "      <th>2018-03-05</th>\n",
       "      <td>26.535904</td>\n",
       "      <td>664483.969600</td>\n",
       "      <td>1.519525</td>\n",
       "      <td>398839.613591</td>\n",
       "      <td>461414.461538</td>\n",
       "      <td>116037.600000</td>\n",
       "      <td>29.000000</td>\n",
       "      <td>25040.939611</td>\n",
       "    </tr>\n",
       "    <tr>\n",
       "      <th>2018-03-06</th>\n",
       "      <td>26.482080</td>\n",
       "      <td>665331.298133</td>\n",
       "      <td>1.520136</td>\n",
       "      <td>398976.467829</td>\n",
       "      <td>461593.000000</td>\n",
       "      <td>116029.022222</td>\n",
       "      <td>29.000000</td>\n",
       "      <td>25123.830837</td>\n",
       "    </tr>\n",
       "    <tr>\n",
       "      <th>2018-03-07</th>\n",
       "      <td>26.348957</td>\n",
       "      <td>666178.626667</td>\n",
       "      <td>1.520746</td>\n",
       "      <td>399113.322066</td>\n",
       "      <td>461771.538462</td>\n",
       "      <td>116020.444444</td>\n",
       "      <td>29.000000</td>\n",
       "      <td>25282.922078</td>\n",
       "    </tr>\n",
       "    <tr>\n",
       "      <th>2018-03-08</th>\n",
       "      <td>26.348957</td>\n",
       "      <td>667025.955200</td>\n",
       "      <td>1.521356</td>\n",
       "      <td>399250.176303</td>\n",
       "      <td>461950.076923</td>\n",
       "      <td>116011.866667</td>\n",
       "      <td>29.000000</td>\n",
       "      <td>25315.080031</td>\n",
       "    </tr>\n",
       "    <tr>\n",
       "      <th>2018-03-09</th>\n",
       "      <td>26.348957</td>\n",
       "      <td>667873.283733</td>\n",
       "      <td>1.521966</td>\n",
       "      <td>399387.030541</td>\n",
       "      <td>462128.615385</td>\n",
       "      <td>116003.288889</td>\n",
       "      <td>29.000000</td>\n",
       "      <td>25347.237985</td>\n",
       "    </tr>\n",
       "    <tr>\n",
       "      <th>2018-03-10</th>\n",
       "      <td>26.348957</td>\n",
       "      <td>668720.612267</td>\n",
       "      <td>1.522576</td>\n",
       "      <td>399523.884778</td>\n",
       "      <td>462307.153846</td>\n",
       "      <td>115994.711111</td>\n",
       "      <td>29.000000</td>\n",
       "      <td>25379.395938</td>\n",
       "    </tr>\n",
       "    <tr>\n",
       "      <th>2018-03-11</th>\n",
       "      <td>26.348957</td>\n",
       "      <td>669567.940800</td>\n",
       "      <td>1.523186</td>\n",
       "      <td>399660.739015</td>\n",
       "      <td>462485.692308</td>\n",
       "      <td>115986.133333</td>\n",
       "      <td>29.000000</td>\n",
       "      <td>25411.553892</td>\n",
       "    </tr>\n",
       "    <tr>\n",
       "      <th>2018-03-12</th>\n",
       "      <td>26.093953</td>\n",
       "      <td>670415.269333</td>\n",
       "      <td>1.523797</td>\n",
       "      <td>399797.593253</td>\n",
       "      <td>462664.230769</td>\n",
       "      <td>115977.555556</td>\n",
       "      <td>29.000000</td>\n",
       "      <td>25692.361343</td>\n",
       "    </tr>\n",
       "    <tr>\n",
       "      <th>2018-03-13</th>\n",
       "      <td>25.924612</td>\n",
       "      <td>671262.597867</td>\n",
       "      <td>1.524407</td>\n",
       "      <td>399934.447490</td>\n",
       "      <td>462842.769231</td>\n",
       "      <td>115968.977778</td>\n",
       "      <td>29.000000</td>\n",
       "      <td>25892.869597</td>\n",
       "    </tr>\n",
       "    <tr>\n",
       "      <th>2018-03-14</th>\n",
       "      <td>25.915887</td>\n",
       "      <td>672109.926400</td>\n",
       "      <td>1.525017</td>\n",
       "      <td>400071.301727</td>\n",
       "      <td>463021.307692</td>\n",
       "      <td>115960.400000</td>\n",
       "      <td>29.000000</td>\n",
       "      <td>25934.282180</td>\n",
       "    </tr>\n",
       "    <tr>\n",
       "      <th>2018-03-15</th>\n",
       "      <td>26.013978</td>\n",
       "      <td>672957.254933</td>\n",
       "      <td>1.525627</td>\n",
       "      <td>400208.155965</td>\n",
       "      <td>463199.846154</td>\n",
       "      <td>115951.822222</td>\n",
       "      <td>29.000000</td>\n",
       "      <td>25869.063737</td>\n",
       "    </tr>\n",
       "    <tr>\n",
       "      <th>2018-03-16</th>\n",
       "      <td>26.272654</td>\n",
       "      <td>673804.583467</td>\n",
       "      <td>1.526237</td>\n",
       "      <td>400345.010202</td>\n",
       "      <td>463378.384615</td>\n",
       "      <td>115943.244444</td>\n",
       "      <td>29.000000</td>\n",
       "      <td>25646.612766</td>\n",
       "    </tr>\n",
       "    <tr>\n",
       "      <th>2018-03-17</th>\n",
       "      <td>26.272654</td>\n",
       "      <td>674651.912000</td>\n",
       "      <td>1.526847</td>\n",
       "      <td>400481.864440</td>\n",
       "      <td>463556.923077</td>\n",
       "      <td>115934.666667</td>\n",
       "      <td>29.000000</td>\n",
       "      <td>25678.864115</td>\n",
       "    </tr>\n",
       "    <tr>\n",
       "      <th>2018-03-18</th>\n",
       "      <td>26.272654</td>\n",
       "      <td>675499.240533</td>\n",
       "      <td>1.527458</td>\n",
       "      <td>400618.718677</td>\n",
       "      <td>463735.461538</td>\n",
       "      <td>115926.088889</td>\n",
       "      <td>29.000000</td>\n",
       "      <td>25711.115464</td>\n",
       "    </tr>\n",
       "    <tr>\n",
       "      <th>2018-03-19</th>\n",
       "      <td>26.353910</td>\n",
       "      <td>676346.569067</td>\n",
       "      <td>1.528068</td>\n",
       "      <td>400755.572914</td>\n",
       "      <td>463914.000000</td>\n",
       "      <td>115917.511111</td>\n",
       "      <td>29.000000</td>\n",
       "      <td>25663.993277</td>\n",
       "    </tr>\n",
       "    <tr>\n",
       "      <th>2018-03-20</th>\n",
       "      <td>26.436044</td>\n",
       "      <td>677193.897600</td>\n",
       "      <td>1.528678</td>\n",
       "      <td>400892.427152</td>\n",
       "      <td>464092.538462</td>\n",
       "      <td>115908.933333</td>\n",
       "      <td>29.000000</td>\n",
       "      <td>25616.309974</td>\n",
       "    </tr>\n",
       "    <tr>\n",
       "      <th>2018-03-21</th>\n",
       "      <td>26.301118</td>\n",
       "      <td>678041.226133</td>\n",
       "      <td>1.529288</td>\n",
       "      <td>401029.281389</td>\n",
       "      <td>464271.076923</td>\n",
       "      <td>115900.355556</td>\n",
       "      <td>29.000000</td>\n",
       "      <td>25779.939322</td>\n",
       "    </tr>\n",
       "    <tr>\n",
       "      <th>2018-03-22</th>\n",
       "      <td>26.280974</td>\n",
       "      <td>678888.554667</td>\n",
       "      <td>1.529898</td>\n",
       "      <td>401166.135626</td>\n",
       "      <td>464449.615385</td>\n",
       "      <td>115891.777778</td>\n",
       "      <td>29.000000</td>\n",
       "      <td>25831.940425</td>\n",
       "    </tr>\n",
       "  </tbody>\n",
       "</table>\n",
       "<p>3003 rows × 8 columns</p>\n",
       "</div>"
      ],
      "text/plain": [
       "            exchange rate            GDP  Inflation         Export  \\\n",
       "date                                                                 \n",
       "2010-01-01       7.985000  207956.892000  12.300000  106050.000000   \n",
       "2010-01-02       7.985000  208058.193200  11.961290  106050.000000   \n",
       "2010-01-03       7.985000  208159.494400  11.622581  106050.000000   \n",
       "2010-01-04       7.985000  208260.795600  11.283871  106050.000000   \n",
       "2010-01-05       7.985000  208362.096800  10.945161  106050.000000   \n",
       "2010-01-06       7.985000  208463.398000  10.606452  106050.000000   \n",
       "2010-01-07       7.985000  208564.699200  10.267742  106050.000000   \n",
       "2010-01-08       7.985000  208666.000400   9.929032  106050.000000   \n",
       "2010-01-09       7.985000  208767.301600   9.590323  106050.000000   \n",
       "2010-01-10       7.985000  208868.602800   9.251613  106050.000000   \n",
       "2010-01-11       7.985000  208969.904000   8.912903  106050.000000   \n",
       "2010-01-12       7.990500  209071.205200   8.574194  106050.000000   \n",
       "2010-01-13       7.998400  209172.506400   8.235484  106050.000000   \n",
       "2010-01-14       8.004000  209273.807600   7.896774  106050.000000   \n",
       "2010-01-15       8.002400  209375.108800   7.558065  106050.000000   \n",
       "2010-01-16       8.002400  209476.410000   7.219355  106050.000000   \n",
       "2010-01-17       8.002400  209577.711200   6.880645  106050.000000   \n",
       "2010-01-18       8.001200  209679.012400   6.541935  106050.000000   \n",
       "2010-01-19       8.001200  209780.313600   6.203226  106050.000000   \n",
       "2010-01-20       8.005500  209881.614800   5.864516  106050.000000   \n",
       "2010-01-21       8.005500  209982.916000   5.525806  106050.000000   \n",
       "2010-01-22       8.010000  210084.217200   5.187097  106050.000000   \n",
       "2010-01-23       8.010000  210185.518400   4.848387  106050.000000   \n",
       "2010-01-24       8.010000  210286.819600   4.509677  106050.000000   \n",
       "2010-01-25       8.008400  210388.120800   4.170968  106050.000000   \n",
       "2010-01-26       8.008000  210489.422000   3.832258  106050.000000   \n",
       "2010-01-27       8.004800  210590.723200   3.493548  106050.000000   \n",
       "2010-01-28       8.002400  210692.024400   3.154839  106050.000000   \n",
       "2010-01-29       8.001200  210793.325600   2.816129  106050.000000   \n",
       "2010-01-30       8.001200  210894.626800   2.477419  106050.000000   \n",
       "...                   ...            ...        ...            ...   \n",
       "2018-02-21      27.072945  654316.027200   1.512203  397197.362743   \n",
       "2018-02-22      26.988039  655163.355733   1.512814  397334.216980   \n",
       "2018-02-23      27.071843  656010.684267   1.513424  397471.071218   \n",
       "2018-02-24      27.071843  656858.012800   1.514034  397607.925455   \n",
       "2018-02-25      27.071843  657705.341333   1.514644  397744.779692   \n",
       "2018-02-26      26.988658  658552.669867   1.515254  397881.633930   \n",
       "2018-02-27      27.006610  659399.998400   1.515864  398018.488167   \n",
       "2018-02-28      26.948185  660247.326933   1.516475  398155.342404   \n",
       "2018-03-01      26.805516  661094.655467   1.517085  398292.196642   \n",
       "2018-03-02      26.669496  661941.984000   1.517695  398429.050879   \n",
       "2018-03-03      26.535904  662789.312533   1.518305  398565.905116   \n",
       "2018-03-04      26.535904  663636.641067   1.518915  398702.759354   \n",
       "2018-03-05      26.535904  664483.969600   1.519525  398839.613591   \n",
       "2018-03-06      26.482080  665331.298133   1.520136  398976.467829   \n",
       "2018-03-07      26.348957  666178.626667   1.520746  399113.322066   \n",
       "2018-03-08      26.348957  667025.955200   1.521356  399250.176303   \n",
       "2018-03-09      26.348957  667873.283733   1.521966  399387.030541   \n",
       "2018-03-10      26.348957  668720.612267   1.522576  399523.884778   \n",
       "2018-03-11      26.348957  669567.940800   1.523186  399660.739015   \n",
       "2018-03-12      26.093953  670415.269333   1.523797  399797.593253   \n",
       "2018-03-13      25.924612  671262.597867   1.524407  399934.447490   \n",
       "2018-03-14      25.915887  672109.926400   1.525017  400071.301727   \n",
       "2018-03-15      26.013978  672957.254933   1.525627  400208.155965   \n",
       "2018-03-16      26.272654  673804.583467   1.526237  400345.010202   \n",
       "2018-03-17      26.272654  674651.912000   1.526847  400481.864440   \n",
       "2018-03-18      26.272654  675499.240533   1.527458  400618.718677   \n",
       "2018-03-19      26.353910  676346.569067   1.528068  400755.572914   \n",
       "2018-03-20      26.436044  677193.897600   1.528678  400892.427152   \n",
       "2018-03-21      26.301118  678041.226133   1.529288  401029.281389   \n",
       "2018-03-22      26.280974  678888.554667   1.529898  401166.135626   \n",
       "\n",
       "                   Import   GrossExtDebt  Interest Trend      GDP in $  \n",
       "date                                                                    \n",
       "2010-01-01  109445.000000  103432.000000       26.000000  26043.442956  \n",
       "2010-01-02  109445.000000  103426.500000       25.903226  26056.129393  \n",
       "2010-01-03  109445.000000  103421.000000       25.806452  26068.815830  \n",
       "2010-01-04  109445.000000  103415.500000       25.709677  26081.502267  \n",
       "2010-01-05  109445.000000  103410.000000       25.612903  26094.188704  \n",
       "2010-01-06  109445.000000  103404.500000       25.516129  26106.875141  \n",
       "2010-01-07  109445.000000  103399.000000       25.419355  26119.561578  \n",
       "2010-01-08  109445.000000  103393.500000       25.322581  26132.248015  \n",
       "2010-01-09  109445.000000  103388.000000       25.225806  26144.934452  \n",
       "2010-01-10  109445.000000  103382.500000       25.129032  26157.620889  \n",
       "2010-01-11  109445.000000  103377.000000       25.032258  26170.307326  \n",
       "2010-01-12  109445.000000  103371.500000       24.935484  26164.971554  \n",
       "2010-01-13  109445.000000  103366.000000       24.838710  26151.793659  \n",
       "2010-01-14  109445.000000  103360.500000       24.741935  26146.152874  \n",
       "2010-01-15  109445.000000  103355.000000       24.645161  26164.039388  \n",
       "2010-01-16  109445.000000  103349.500000       24.548387  26176.698241  \n",
       "2010-01-17  109445.000000  103344.000000       24.451613  26189.357093  \n",
       "2010-01-18  109445.000000  103338.500000       24.354839  26205.945658  \n",
       "2010-01-19  109445.000000  103333.000000       24.258065  26218.606409  \n",
       "2010-01-20  109445.000000  103327.500000       24.161290  26217.177540  \n",
       "2010-01-21  109445.000000  103322.000000       24.064516  26229.831491  \n",
       "2010-01-22  109445.000000  103316.500000       23.967742  26227.742472  \n",
       "2010-01-23  109445.000000  103311.000000       23.870968  26240.389313  \n",
       "2010-01-24  109445.000000  103305.500000       23.774194  26253.036155  \n",
       "2010-01-25  109445.000000  103300.000000       23.677419  26270.930623  \n",
       "2010-01-26  109445.000000  103294.500000       23.580645  26284.892857  \n",
       "2010-01-27  109445.000000  103289.000000       23.483871  26308.055567  \n",
       "2010-01-28  109445.000000  103283.500000       23.387097  26328.604469  \n",
       "2010-01-29  109445.000000  103278.000000       23.290323  26345.213918  \n",
       "2010-01-30  109445.000000  103272.500000       23.193548  26357.874669  \n",
       "...                   ...            ...             ...           ...  \n",
       "2018-02-21  459272.000000  116140.533333       29.857143  24168.631348  \n",
       "2018-02-22  459450.538462  116131.955556       29.750000  24276.063768  \n",
       "2018-02-23  459629.076923  116123.377778       29.642857  24232.213679  \n",
       "2018-02-24  459807.615385  116114.800000       29.535714  24263.512935  \n",
       "2018-02-25  459986.153846  116106.222222       29.428571  24294.812190  \n",
       "2018-02-26  460164.692308  116097.644444       29.321429  24401.089890  \n",
       "2018-02-27  460343.230769  116089.066667       29.214286  24416.244705  \n",
       "2018-02-28  460521.769231  116080.488889       29.107143  24500.623212  \n",
       "2018-03-01  460700.307692  116071.911111       29.000000  24662.634939  \n",
       "2018-03-02  460878.846154  116063.333333       29.000000  24820.190978  \n",
       "2018-03-03  461057.384615  116054.755556       29.000000  24977.076814  \n",
       "2018-03-04  461235.923077  116046.177778       29.000000  25009.008213  \n",
       "2018-03-05  461414.461538  116037.600000       29.000000  25040.939611  \n",
       "2018-03-06  461593.000000  116029.022222       29.000000  25123.830837  \n",
       "2018-03-07  461771.538462  116020.444444       29.000000  25282.922078  \n",
       "2018-03-08  461950.076923  116011.866667       29.000000  25315.080031  \n",
       "2018-03-09  462128.615385  116003.288889       29.000000  25347.237985  \n",
       "2018-03-10  462307.153846  115994.711111       29.000000  25379.395938  \n",
       "2018-03-11  462485.692308  115986.133333       29.000000  25411.553892  \n",
       "2018-03-12  462664.230769  115977.555556       29.000000  25692.361343  \n",
       "2018-03-13  462842.769231  115968.977778       29.000000  25892.869597  \n",
       "2018-03-14  463021.307692  115960.400000       29.000000  25934.282180  \n",
       "2018-03-15  463199.846154  115951.822222       29.000000  25869.063737  \n",
       "2018-03-16  463378.384615  115943.244444       29.000000  25646.612766  \n",
       "2018-03-17  463556.923077  115934.666667       29.000000  25678.864115  \n",
       "2018-03-18  463735.461538  115926.088889       29.000000  25711.115464  \n",
       "2018-03-19  463914.000000  115917.511111       29.000000  25663.993277  \n",
       "2018-03-20  464092.538462  115908.933333       29.000000  25616.309974  \n",
       "2018-03-21  464271.076923  115900.355556       29.000000  25779.939322  \n",
       "2018-03-22  464449.615385  115891.777778       29.000000  25831.940425  \n",
       "\n",
       "[3003 rows x 8 columns]"
      ]
     },
     "execution_count": 65,
     "metadata": {},
     "output_type": "execute_result"
    }
   ],
   "source": [
    "df_total"
   ]
  },
  {
   "cell_type": "code",
   "execution_count": null,
   "metadata": {},
   "outputs": [],
   "source": []
  }
 ],
 "metadata": {
  "kernelspec": {
   "display_name": "Python 3",
   "language": "python",
   "name": "python3"
  },
  "language_info": {
   "codemirror_mode": {
    "name": "ipython",
    "version": 3
   },
   "file_extension": ".py",
   "mimetype": "text/x-python",
   "name": "python",
   "nbconvert_exporter": "python",
   "pygments_lexer": "ipython3",
   "version": "3.6.5"
  }
 },
 "nbformat": 4,
 "nbformat_minor": 2
}
