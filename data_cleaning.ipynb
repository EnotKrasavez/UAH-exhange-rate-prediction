{
 "cells": [
  {
   "cell_type": "markdown",
   "metadata": {},
   "source": [
    "## Import"
   ]
  },
  {
   "cell_type": "code",
   "execution_count": 2,
   "metadata": {
    "collapsed": true
   },
   "outputs": [],
   "source": [
    "import numpy as np\n",
    "import pandas as pd\n",
    "import matplotlib.pyplot as plt"
   ]
  },
  {
   "cell_type": "code",
   "execution_count": 3,
   "metadata": {
    "collapsed": true
   },
   "outputs": [],
   "source": [
    "import datetime\n",
    "import json"
   ]
  },
  {
   "cell_type": "markdown",
   "metadata": {},
   "source": [
    "## Open files"
   ]
  },
  {
   "cell_type": "code",
   "execution_count": 290,
   "metadata": {},
   "outputs": [],
   "source": [
    "# Add income of UA budget\n",
    "with open('data/budget_income.json') as b:\n",
    "    budget_income_dict = json.loads(b.read())\n",
    "    \n",
    "# Add expenses of UA budget\n",
    "with open('data/budget_expenses.json') as b_e:\n",
    "    budget_expenses_dict = json.loads(b_e.read())\n",
    "    \n",
    "# Add consumer price index\n",
    "with open('data/inflation.json', 'r') as inf:\n",
    "    inflation_dict = json.loads(inf.read())\n",
    "    \n",
    "# Add incomes of all Ukrainian banks, except of NBU\n",
    "with open('data/bank_inc.json', 'r') as bank_inc:\n",
    "    bank_income_dict = json.loads(bank_inc.read())\n",
    "\n",
    "# Add expenses of all Ukrainian banks, except of NBU\n",
    "with open('data/bank_exp.json', 'r') as bank_exp:\n",
    "    bank_expenses_dict = json.loads(bank_exp.read())\n",
    "    \n",
    "# Add amount of Ukrainian export\n",
    "with open('data/export.json', 'r') as export:\n",
    "    ua_export_dict = json.loads(export.read())\n",
    "    \n",
    "# Add amount of Ukrainian import\n",
    "with open('data/import.json', 'r') as ua_imp:\n",
    "    ua_import_dict = json.loads(ua_imp.read())\n",
    "    \n",
    "# Add gross external debt\n",
    "with open('data/grossextdebt.json', 'r') as debt:\n",
    "    grossextdebt_dict = json.loads(debt.read())\n",
    "\n",
    "# Add Ukrainian GDP\n",
    "with open('data/vvp.json', 'r') as gdp:\n",
    "    gross_domestic_product_dict = json.loads(gdp.read())\n",
    "\n",
    "# Add trends of exchange interest\n",
    "df_interest_trend = pd.read_csv('data/kurs.csv')\n",
    "\n",
    "# Add exchange rate UAH to USD\n",
    "exchange_rate = pd.read_csv('data/exchange_rate.csv')"
   ]
  },
  {
   "cell_type": "markdown",
   "metadata": {},
   "source": [
    "## Define a function to clean data from useless information"
   ]
  },
  {
   "cell_type": "code",
   "execution_count": 326,
   "metadata": {
    "collapsed": true
   },
   "outputs": [],
   "source": [
    "def df_cleaner(new_dict):\n",
    "    \n",
    "    # We need only these three columns\n",
    "    new_cols = ['freq', 'value', 'date']\n",
    "    df = pd.DataFrame(new_dict)\n",
    "    \n",
    "    #  A condition to choose only absolute values of import/export\n",
    "    if df['tzep'][0] == 'F_':\n",
    "        df = df.where(df['tzep'] == 'F_')\n",
    "     \n",
    "    # Rename columns\n",
    "    df.rename(columns={'dt' : 'date'}, inplace = True)\n",
    "    df.rename(columns={'value' : df['txt'][0]})\n",
    "    df['date'] = pd.to_datetime(df['date'])\n",
    "    df = df.sort_values(by='date')\n",
    "    \n",
    "    # Throw away useless columns\n",
    "    for col in list(df.columns.values):\n",
    "        if col not in new_cols:\n",
    "            df = df.drop(col, axis=1)\n",
    "    \n",
    "    # Return clean data\n",
    "    return df\n"
   ]
  },
  {
   "cell_type": "markdown",
   "metadata": {},
   "source": [
    "## Define function to leave data of chosen frequency"
   ]
  },
  {
   "cell_type": "code",
   "execution_count": 329,
   "metadata": {
    "collapsed": true
   },
   "outputs": [],
   "source": [
    "def to_frequency(dataframe, frequency = 'M'):\n",
    "    dataframe = dataframe.where(dataframe['freq'] == frequency)\n",
    "    dataframe = dataframe.dropna(axis=0, how='all')\n",
    "    dataframe.index = range(len(dataframe))\n",
    "    return dataframe"
   ]
  },
  {
   "cell_type": "markdown",
   "metadata": {},
   "source": [
    "# Preprocessing\n",
    "## Clean and regroup the data about inflation in Ukraine"
   ]
  },
  {
   "cell_type": "code",
   "execution_count": 330,
   "metadata": {
    "collapsed": true
   },
   "outputs": [],
   "source": [
    "# Special function to \n",
    "def select_total(dictionary):\n",
    "    df = pd.DataFrame(dictionary)\n",
    "    \n",
    "    # 'ku' - for region of Ukraine. I choose 'ku' == None and change it \n",
    "    # to the value 100500, which is out of range of Ukrainian regions.\n",
    "    # 'tzep' - for absolute values.\n",
    "    df.fillna(value='100500', inplace=True)\n",
    "    df = df.where(df['ku'] == '100500')\n",
    "    df = df.where(df['tzep'] == 'DTPY_')  \n",
    "    \n",
    "    # Rename columns\n",
    "    df.rename(columns={'dt' : 'date'}, inplace = True)\n",
    "    df.rename(columns={'value' : df['txten'][0]})\n",
    "    \n",
    "    # Convert date column to datetime type and sort data by date\n",
    "    df['date'] = pd.to_datetime(df['date'])\n",
    "    df = df.sort_values(by='date')\n",
    "    df = df.where(df['mcrd081'] == 'Total').dropna(axis=0, how='all')\n",
    "    \n",
    "    # Delete all the useless information\n",
    "    new_cols = ['freq', 'value', 'date']\n",
    "    for col in list(df.columns.values):\n",
    "        if col not in new_cols:\n",
    "            df = df.drop(col, axis=1)\n",
    "                         \n",
    "    # Return \n",
    "    return df"
   ]
  },
  {
   "cell_type": "markdown",
   "metadata": {},
   "source": [
    "##  Define the dataset"
   ]
  },
  {
   "cell_type": "code",
   "execution_count": 448,
   "metadata": {
    "collapsed": true
   },
   "outputs": [],
   "source": [
    "# Define dataset\n",
    "df_budget_income = to_frequency(df_cleaner(budget_income_dict), 'M')\n",
    "\n",
    "df_budget_expenses = to_frequency(df_cleaner(budget_expenses_dict), 'M')\n",
    "\n",
    "df_bank_income = to_frequency(df_cleaner(bank_income_dict), 'M')\n",
    "\n",
    "df_bank_expenses = to_frequency(df_cleaner(bank_expenses_dict), 'M')\n",
    "\n",
    "df_import = to_frequency(df_cleaner(ua_import_dict), 'Q') # pd.DataFrame(ua_import_dict) \n",
    "                          \n",
    "df_export = to_frequency(df_cleaner(ua_export_dict), 'Q') # pd.DataFrame(ua_export_dict)\n",
    "                         \n",
    "df_grossextdebt = to_frequency(df_cleaner(grossextdebt_dict), 'Q')\n",
    "                         \n",
    "df_gdp = to_frequency(df_cleaner(gross_domestic_product_dict), 'Q') # pd.DataFrame(gross_domestic_product_dict)\n",
    "\n",
    "df_inflation = to_frequency(select_total(inflation_dict), 'M') #pd.DataFrame(inflation_dict) \n",
    "\n",
    "df_interest_trend = df_interest_trend.rename(columns={'Month' : 'date', 'курс валют: (Ukraine)' : 'interest rate'})\n",
    "df_interest_trend['date'] = pd.to_datetime(df_interest_trend['date'])\n",
    "\n",
    "gdp_2017 = pd.read_csv('data/UkraineGDP.csv')"
   ]
  },
  {
   "cell_type": "markdown",
   "metadata": {},
   "source": [
    "## Create new pandas dataframe to collect all the data"
   ]
  },
  {
   "cell_type": "code",
   "execution_count": 336,
   "metadata": {},
   "outputs": [],
   "source": [
    "df_total = exchange_rate.copy()"
   ]
  },
  {
   "cell_type": "markdown",
   "metadata": {},
   "source": [
    "#### Set date as an index"
   ]
  },
  {
   "cell_type": "code",
   "execution_count": 337,
   "metadata": {},
   "outputs": [],
   "source": [
    "df_total['date'] = pd.to_datetime(df_total['date'])\n",
    "df_total = df_total.set_index('date')"
   ]
  },
  {
   "cell_type": "markdown",
   "metadata": {},
   "source": [
    "#### Cut off data for 1998-2009"
   ]
  },
  {
   "cell_type": "code",
   "execution_count": 449,
   "metadata": {
    "collapsed": true
   },
   "outputs": [],
   "source": [
    "df_total = df_total.loc[datetime.datetime(2010,1,1):datetime.datetime.now()]"
   ]
  },
  {
   "cell_type": "markdown",
   "metadata": {},
   "source": [
    "### 1. Gross domestic product"
   ]
  },
  {
   "cell_type": "markdown",
   "metadata": {},
   "source": [
    "#### Set date as index"
   ]
  },
  {
   "cell_type": "code",
   "execution_count": 373,
   "metadata": {},
   "outputs": [],
   "source": [
    "gdp_2017['freq'] = 'Q'\n",
    "gdp_2017['date'] = pd.to_datetime(gdp_2017['date'])\n",
    "gdp_2017 = gdp_2017.set_index('date')\n",
    "df_gdp = df_gdp.set_index('date')"
   ]
  },
  {
   "cell_type": "markdown",
   "metadata": {},
   "source": [
    "I did't have enough data about Ukrainian GDP, so I make an assumption, that GDP growth in 2018 (comparing with 2017) is 3.1%. In fact, the value 3.1% was taken here\n",
    "https://news.finance.ua/ua/news/-/417573/vvp-ukrayiny-prognozy-na-2018\n",
    "The same issue had been concerning the quartal data for the beginning of 2010, so I've taken value for 2011 and substracted the growth of GDP in 2010."
   ]
  },
  {
   "cell_type": "code",
   "execution_count": 375,
   "metadata": {},
   "outputs": [],
   "source": [
    "df_gdp = df_gdp.append(gdp_2017[1:])\n",
    "df_gdp.loc[datetime.datetime(2010,1,1)] = ['Q', df_gdp['value'][datetime.datetime(2010,4,1)] * (1-0.042)]\n",
    "df_gdp.loc[datetime.datetime(2018,1,1)] = ['Q', gdp_2017['value'][datetime.datetime(2017,1,1)] * 1.034]\n",
    "df_gdp.loc[datetime.datetime(2018,4,1)] = ['Q', gdp_2017['value'][datetime.datetime(2017,4,1)] * 1.034]\n",
    "df_gdp = df_gdp.sort_index()"
   ]
  },
  {
   "cell_type": "markdown",
   "metadata": {},
   "source": [
    "#### Change frequency of GDP to daily, missing values are replaced with interpolated"
   ]
  },
  {
   "cell_type": "code",
   "execution_count": 376,
   "metadata": {
    "scrolled": true
   },
   "outputs": [],
   "source": [
    "df_gdp = df_gdp.asfreq('D')"
   ]
  },
  {
   "cell_type": "code",
   "execution_count": 377,
   "metadata": {},
   "outputs": [],
   "source": [
    "df_gdp = df_gdp.apply(pd.Series.interpolate)"
   ]
  },
  {
   "cell_type": "markdown",
   "metadata": {},
   "source": [
    "#### Add GDP value to collective dataframe"
   ]
  },
  {
   "cell_type": "code",
   "execution_count": 379,
   "metadata": {},
   "outputs": [],
   "source": [
    "df_total['gdp'] = df_gdp['value']"
   ]
  },
  {
   "cell_type": "markdown",
   "metadata": {},
   "source": [
    "#### Include GDP in USD to the collective dataframe"
   ]
  },
  {
   "cell_type": "code",
   "execution_count": 459,
   "metadata": {
    "scrolled": true
   },
   "outputs": [],
   "source": [
    "df_total['gdp_in_usd'] = df_total['gdp'].divide(df_total['exchange rate'])"
   ]
  },
  {
   "cell_type": "code",
   "execution_count": 460,
   "metadata": {},
   "outputs": [
    {
     "data": {
      "text/html": [
       "<div>\n",
       "<style scoped>\n",
       "    .dataframe tbody tr th:only-of-type {\n",
       "        vertical-align: middle;\n",
       "    }\n",
       "\n",
       "    .dataframe tbody tr th {\n",
       "        vertical-align: top;\n",
       "    }\n",
       "\n",
       "    .dataframe thead th {\n",
       "        text-align: right;\n",
       "    }\n",
       "</style>\n",
       "<table border=\"1\" class=\"dataframe\">\n",
       "  <thead>\n",
       "    <tr style=\"text-align: right;\">\n",
       "      <th></th>\n",
       "      <th>exchange rate</th>\n",
       "      <th>gdp</th>\n",
       "      <th>gdp_in_usd</th>\n",
       "    </tr>\n",
       "    <tr>\n",
       "      <th>date</th>\n",
       "      <th></th>\n",
       "      <th></th>\n",
       "      <th></th>\n",
       "    </tr>\n",
       "  </thead>\n",
       "  <tbody>\n",
       "    <tr>\n",
       "      <th>2010-01-01</th>\n",
       "      <td>7.985000</td>\n",
       "      <td>207956.892000</td>\n",
       "      <td>26043.442956</td>\n",
       "    </tr>\n",
       "    <tr>\n",
       "      <th>2010-01-02</th>\n",
       "      <td>7.985000</td>\n",
       "      <td>208058.193200</td>\n",
       "      <td>26056.129393</td>\n",
       "    </tr>\n",
       "    <tr>\n",
       "      <th>2010-01-03</th>\n",
       "      <td>7.985000</td>\n",
       "      <td>208159.494400</td>\n",
       "      <td>26068.815830</td>\n",
       "    </tr>\n",
       "    <tr>\n",
       "      <th>2010-01-04</th>\n",
       "      <td>7.985000</td>\n",
       "      <td>208260.795600</td>\n",
       "      <td>26081.502267</td>\n",
       "    </tr>\n",
       "    <tr>\n",
       "      <th>2010-01-05</th>\n",
       "      <td>7.985000</td>\n",
       "      <td>208362.096800</td>\n",
       "      <td>26094.188704</td>\n",
       "    </tr>\n",
       "    <tr>\n",
       "      <th>2010-01-06</th>\n",
       "      <td>7.985000</td>\n",
       "      <td>208463.398000</td>\n",
       "      <td>26106.875141</td>\n",
       "    </tr>\n",
       "    <tr>\n",
       "      <th>2010-01-07</th>\n",
       "      <td>7.985000</td>\n",
       "      <td>208564.699200</td>\n",
       "      <td>26119.561578</td>\n",
       "    </tr>\n",
       "    <tr>\n",
       "      <th>2010-01-08</th>\n",
       "      <td>7.985000</td>\n",
       "      <td>208666.000400</td>\n",
       "      <td>26132.248015</td>\n",
       "    </tr>\n",
       "    <tr>\n",
       "      <th>2010-01-09</th>\n",
       "      <td>7.985000</td>\n",
       "      <td>208767.301600</td>\n",
       "      <td>26144.934452</td>\n",
       "    </tr>\n",
       "    <tr>\n",
       "      <th>2010-01-10</th>\n",
       "      <td>7.985000</td>\n",
       "      <td>208868.602800</td>\n",
       "      <td>26157.620889</td>\n",
       "    </tr>\n",
       "    <tr>\n",
       "      <th>2010-01-11</th>\n",
       "      <td>7.985000</td>\n",
       "      <td>208969.904000</td>\n",
       "      <td>26170.307326</td>\n",
       "    </tr>\n",
       "    <tr>\n",
       "      <th>2010-01-12</th>\n",
       "      <td>7.990500</td>\n",
       "      <td>209071.205200</td>\n",
       "      <td>26164.971554</td>\n",
       "    </tr>\n",
       "    <tr>\n",
       "      <th>2010-01-13</th>\n",
       "      <td>7.998400</td>\n",
       "      <td>209172.506400</td>\n",
       "      <td>26151.793659</td>\n",
       "    </tr>\n",
       "    <tr>\n",
       "      <th>2010-01-14</th>\n",
       "      <td>8.004000</td>\n",
       "      <td>209273.807600</td>\n",
       "      <td>26146.152874</td>\n",
       "    </tr>\n",
       "    <tr>\n",
       "      <th>2010-01-15</th>\n",
       "      <td>8.002400</td>\n",
       "      <td>209375.108800</td>\n",
       "      <td>26164.039388</td>\n",
       "    </tr>\n",
       "    <tr>\n",
       "      <th>2010-01-16</th>\n",
       "      <td>8.002400</td>\n",
       "      <td>209476.410000</td>\n",
       "      <td>26176.698241</td>\n",
       "    </tr>\n",
       "    <tr>\n",
       "      <th>2010-01-17</th>\n",
       "      <td>8.002400</td>\n",
       "      <td>209577.711200</td>\n",
       "      <td>26189.357093</td>\n",
       "    </tr>\n",
       "    <tr>\n",
       "      <th>2010-01-18</th>\n",
       "      <td>8.001200</td>\n",
       "      <td>209679.012400</td>\n",
       "      <td>26205.945658</td>\n",
       "    </tr>\n",
       "    <tr>\n",
       "      <th>2010-01-19</th>\n",
       "      <td>8.001200</td>\n",
       "      <td>209780.313600</td>\n",
       "      <td>26218.606409</td>\n",
       "    </tr>\n",
       "    <tr>\n",
       "      <th>2010-01-20</th>\n",
       "      <td>8.005500</td>\n",
       "      <td>209881.614800</td>\n",
       "      <td>26217.177540</td>\n",
       "    </tr>\n",
       "    <tr>\n",
       "      <th>2010-01-21</th>\n",
       "      <td>8.005500</td>\n",
       "      <td>209982.916000</td>\n",
       "      <td>26229.831491</td>\n",
       "    </tr>\n",
       "    <tr>\n",
       "      <th>2010-01-22</th>\n",
       "      <td>8.010000</td>\n",
       "      <td>210084.217200</td>\n",
       "      <td>26227.742472</td>\n",
       "    </tr>\n",
       "    <tr>\n",
       "      <th>2010-01-23</th>\n",
       "      <td>8.010000</td>\n",
       "      <td>210185.518400</td>\n",
       "      <td>26240.389313</td>\n",
       "    </tr>\n",
       "    <tr>\n",
       "      <th>2010-01-24</th>\n",
       "      <td>8.010000</td>\n",
       "      <td>210286.819600</td>\n",
       "      <td>26253.036155</td>\n",
       "    </tr>\n",
       "    <tr>\n",
       "      <th>2010-01-25</th>\n",
       "      <td>8.008400</td>\n",
       "      <td>210388.120800</td>\n",
       "      <td>26270.930623</td>\n",
       "    </tr>\n",
       "    <tr>\n",
       "      <th>2010-01-26</th>\n",
       "      <td>8.008000</td>\n",
       "      <td>210489.422000</td>\n",
       "      <td>26284.892857</td>\n",
       "    </tr>\n",
       "    <tr>\n",
       "      <th>2010-01-27</th>\n",
       "      <td>8.004800</td>\n",
       "      <td>210590.723200</td>\n",
       "      <td>26308.055567</td>\n",
       "    </tr>\n",
       "    <tr>\n",
       "      <th>2010-01-28</th>\n",
       "      <td>8.002400</td>\n",
       "      <td>210692.024400</td>\n",
       "      <td>26328.604469</td>\n",
       "    </tr>\n",
       "    <tr>\n",
       "      <th>2010-01-29</th>\n",
       "      <td>8.001200</td>\n",
       "      <td>210793.325600</td>\n",
       "      <td>26345.213918</td>\n",
       "    </tr>\n",
       "    <tr>\n",
       "      <th>2010-01-30</th>\n",
       "      <td>8.001200</td>\n",
       "      <td>210894.626800</td>\n",
       "      <td>26357.874669</td>\n",
       "    </tr>\n",
       "    <tr>\n",
       "      <th>...</th>\n",
       "      <td>...</td>\n",
       "      <td>...</td>\n",
       "      <td>...</td>\n",
       "    </tr>\n",
       "    <tr>\n",
       "      <th>2018-02-21</th>\n",
       "      <td>27.072945</td>\n",
       "      <td>849033.982000</td>\n",
       "      <td>31360.976133</td>\n",
       "    </tr>\n",
       "    <tr>\n",
       "      <th>2018-02-22</th>\n",
       "      <td>26.988039</td>\n",
       "      <td>849853.448667</td>\n",
       "      <td>31490.003726</td>\n",
       "    </tr>\n",
       "    <tr>\n",
       "      <th>2018-02-23</th>\n",
       "      <td>27.071843</td>\n",
       "      <td>850672.915333</td>\n",
       "      <td>31422.792875</td>\n",
       "    </tr>\n",
       "    <tr>\n",
       "      <th>2018-02-24</th>\n",
       "      <td>27.071843</td>\n",
       "      <td>851492.382000</td>\n",
       "      <td>31453.062948</td>\n",
       "    </tr>\n",
       "    <tr>\n",
       "      <th>2018-02-25</th>\n",
       "      <td>27.071843</td>\n",
       "      <td>852311.848667</td>\n",
       "      <td>31483.333021</td>\n",
       "    </tr>\n",
       "    <tr>\n",
       "      <th>2018-02-26</th>\n",
       "      <td>26.988658</td>\n",
       "      <td>853131.315333</td>\n",
       "      <td>31610.734974</td>\n",
       "    </tr>\n",
       "    <tr>\n",
       "      <th>2018-02-27</th>\n",
       "      <td>27.006610</td>\n",
       "      <td>853950.782000</td>\n",
       "      <td>31620.065680</td>\n",
       "    </tr>\n",
       "    <tr>\n",
       "      <th>2018-02-28</th>\n",
       "      <td>26.948185</td>\n",
       "      <td>854770.248667</td>\n",
       "      <td>31719.028523</td>\n",
       "    </tr>\n",
       "    <tr>\n",
       "      <th>2018-03-01</th>\n",
       "      <td>26.805516</td>\n",
       "      <td>855589.715333</td>\n",
       "      <td>31918.419900</td>\n",
       "    </tr>\n",
       "    <tr>\n",
       "      <th>2018-03-02</th>\n",
       "      <td>26.669496</td>\n",
       "      <td>856409.182000</td>\n",
       "      <td>32111.937248</td>\n",
       "    </tr>\n",
       "    <tr>\n",
       "      <th>2018-03-03</th>\n",
       "      <td>26.535904</td>\n",
       "      <td>857228.648667</td>\n",
       "      <td>32304.482586</td>\n",
       "    </tr>\n",
       "    <tr>\n",
       "      <th>2018-03-04</th>\n",
       "      <td>26.535904</td>\n",
       "      <td>858048.115333</td>\n",
       "      <td>32335.364016</td>\n",
       "    </tr>\n",
       "    <tr>\n",
       "      <th>2018-03-05</th>\n",
       "      <td>26.535904</td>\n",
       "      <td>858867.582000</td>\n",
       "      <td>32366.245446</td>\n",
       "    </tr>\n",
       "    <tr>\n",
       "      <th>2018-03-06</th>\n",
       "      <td>26.482080</td>\n",
       "      <td>859687.048667</td>\n",
       "      <td>32462.973024</td>\n",
       "    </tr>\n",
       "    <tr>\n",
       "      <th>2018-03-07</th>\n",
       "      <td>26.348957</td>\n",
       "      <td>860506.515333</td>\n",
       "      <td>32658.086441</td>\n",
       "    </tr>\n",
       "    <tr>\n",
       "      <th>2018-03-08</th>\n",
       "      <td>26.348957</td>\n",
       "      <td>861325.982000</td>\n",
       "      <td>32689.186976</td>\n",
       "    </tr>\n",
       "    <tr>\n",
       "      <th>2018-03-09</th>\n",
       "      <td>26.348957</td>\n",
       "      <td>862145.448667</td>\n",
       "      <td>32720.287511</td>\n",
       "    </tr>\n",
       "    <tr>\n",
       "      <th>2018-03-10</th>\n",
       "      <td>26.348957</td>\n",
       "      <td>862964.915333</td>\n",
       "      <td>32751.388047</td>\n",
       "    </tr>\n",
       "    <tr>\n",
       "      <th>2018-03-11</th>\n",
       "      <td>26.348957</td>\n",
       "      <td>863784.382000</td>\n",
       "      <td>32782.488582</td>\n",
       "    </tr>\n",
       "    <tr>\n",
       "      <th>2018-03-12</th>\n",
       "      <td>26.093953</td>\n",
       "      <td>864603.848667</td>\n",
       "      <td>33134.260979</td>\n",
       "    </tr>\n",
       "    <tr>\n",
       "      <th>2018-03-13</th>\n",
       "      <td>25.924612</td>\n",
       "      <td>865423.315333</td>\n",
       "      <td>33382.305407</td>\n",
       "    </tr>\n",
       "    <tr>\n",
       "      <th>2018-03-14</th>\n",
       "      <td>25.915887</td>\n",
       "      <td>866242.782000</td>\n",
       "      <td>33425.164340</td>\n",
       "    </tr>\n",
       "    <tr>\n",
       "      <th>2018-03-15</th>\n",
       "      <td>26.013978</td>\n",
       "      <td>867062.248667</td>\n",
       "      <td>33330.628967</td>\n",
       "    </tr>\n",
       "    <tr>\n",
       "      <th>2018-03-16</th>\n",
       "      <td>26.272654</td>\n",
       "      <td>867881.715333</td>\n",
       "      <td>33033.652228</td>\n",
       "    </tr>\n",
       "    <tr>\n",
       "      <th>2018-03-17</th>\n",
       "      <td>26.272654</td>\n",
       "      <td>868701.182000</td>\n",
       "      <td>33064.843087</td>\n",
       "    </tr>\n",
       "    <tr>\n",
       "      <th>2018-03-18</th>\n",
       "      <td>26.272654</td>\n",
       "      <td>869520.648667</td>\n",
       "      <td>33096.033947</td>\n",
       "    </tr>\n",
       "    <tr>\n",
       "      <th>2018-03-19</th>\n",
       "      <td>26.353910</td>\n",
       "      <td>870340.115333</td>\n",
       "      <td>33025.084905</td>\n",
       "    </tr>\n",
       "    <tr>\n",
       "      <th>2018-03-20</th>\n",
       "      <td>26.436044</td>\n",
       "      <td>871159.582000</td>\n",
       "      <td>32953.477532</td>\n",
       "    </tr>\n",
       "    <tr>\n",
       "      <th>2018-03-21</th>\n",
       "      <td>26.301118</td>\n",
       "      <td>871979.048667</td>\n",
       "      <td>33153.687561</td>\n",
       "    </tr>\n",
       "    <tr>\n",
       "      <th>2018-03-22</th>\n",
       "      <td>26.280974</td>\n",
       "      <td>872798.515333</td>\n",
       "      <td>33210.280385</td>\n",
       "    </tr>\n",
       "  </tbody>\n",
       "</table>\n",
       "<p>3003 rows × 3 columns</p>\n",
       "</div>"
      ],
      "text/plain": [
       "            exchange rate            gdp    gdp_in_usd\n",
       "date                                                  \n",
       "2010-01-01       7.985000  207956.892000  26043.442956\n",
       "2010-01-02       7.985000  208058.193200  26056.129393\n",
       "2010-01-03       7.985000  208159.494400  26068.815830\n",
       "2010-01-04       7.985000  208260.795600  26081.502267\n",
       "2010-01-05       7.985000  208362.096800  26094.188704\n",
       "2010-01-06       7.985000  208463.398000  26106.875141\n",
       "2010-01-07       7.985000  208564.699200  26119.561578\n",
       "2010-01-08       7.985000  208666.000400  26132.248015\n",
       "2010-01-09       7.985000  208767.301600  26144.934452\n",
       "2010-01-10       7.985000  208868.602800  26157.620889\n",
       "2010-01-11       7.985000  208969.904000  26170.307326\n",
       "2010-01-12       7.990500  209071.205200  26164.971554\n",
       "2010-01-13       7.998400  209172.506400  26151.793659\n",
       "2010-01-14       8.004000  209273.807600  26146.152874\n",
       "2010-01-15       8.002400  209375.108800  26164.039388\n",
       "2010-01-16       8.002400  209476.410000  26176.698241\n",
       "2010-01-17       8.002400  209577.711200  26189.357093\n",
       "2010-01-18       8.001200  209679.012400  26205.945658\n",
       "2010-01-19       8.001200  209780.313600  26218.606409\n",
       "2010-01-20       8.005500  209881.614800  26217.177540\n",
       "2010-01-21       8.005500  209982.916000  26229.831491\n",
       "2010-01-22       8.010000  210084.217200  26227.742472\n",
       "2010-01-23       8.010000  210185.518400  26240.389313\n",
       "2010-01-24       8.010000  210286.819600  26253.036155\n",
       "2010-01-25       8.008400  210388.120800  26270.930623\n",
       "2010-01-26       8.008000  210489.422000  26284.892857\n",
       "2010-01-27       8.004800  210590.723200  26308.055567\n",
       "2010-01-28       8.002400  210692.024400  26328.604469\n",
       "2010-01-29       8.001200  210793.325600  26345.213918\n",
       "2010-01-30       8.001200  210894.626800  26357.874669\n",
       "...                   ...            ...           ...\n",
       "2018-02-21      27.072945  849033.982000  31360.976133\n",
       "2018-02-22      26.988039  849853.448667  31490.003726\n",
       "2018-02-23      27.071843  850672.915333  31422.792875\n",
       "2018-02-24      27.071843  851492.382000  31453.062948\n",
       "2018-02-25      27.071843  852311.848667  31483.333021\n",
       "2018-02-26      26.988658  853131.315333  31610.734974\n",
       "2018-02-27      27.006610  853950.782000  31620.065680\n",
       "2018-02-28      26.948185  854770.248667  31719.028523\n",
       "2018-03-01      26.805516  855589.715333  31918.419900\n",
       "2018-03-02      26.669496  856409.182000  32111.937248\n",
       "2018-03-03      26.535904  857228.648667  32304.482586\n",
       "2018-03-04      26.535904  858048.115333  32335.364016\n",
       "2018-03-05      26.535904  858867.582000  32366.245446\n",
       "2018-03-06      26.482080  859687.048667  32462.973024\n",
       "2018-03-07      26.348957  860506.515333  32658.086441\n",
       "2018-03-08      26.348957  861325.982000  32689.186976\n",
       "2018-03-09      26.348957  862145.448667  32720.287511\n",
       "2018-03-10      26.348957  862964.915333  32751.388047\n",
       "2018-03-11      26.348957  863784.382000  32782.488582\n",
       "2018-03-12      26.093953  864603.848667  33134.260979\n",
       "2018-03-13      25.924612  865423.315333  33382.305407\n",
       "2018-03-14      25.915887  866242.782000  33425.164340\n",
       "2018-03-15      26.013978  867062.248667  33330.628967\n",
       "2018-03-16      26.272654  867881.715333  33033.652228\n",
       "2018-03-17      26.272654  868701.182000  33064.843087\n",
       "2018-03-18      26.272654  869520.648667  33096.033947\n",
       "2018-03-19      26.353910  870340.115333  33025.084905\n",
       "2018-03-20      26.436044  871159.582000  32953.477532\n",
       "2018-03-21      26.301118  871979.048667  33153.687561\n",
       "2018-03-22      26.280974  872798.515333  33210.280385\n",
       "\n",
       "[3003 rows x 3 columns]"
      ]
     },
     "execution_count": 460,
     "metadata": {},
     "output_type": "execute_result"
    }
   ],
   "source": [
    "df_total"
   ]
  },
  {
   "cell_type": "markdown",
   "metadata": {},
   "source": [
    "#### The difference between GDP in UAH and USD."
   ]
  },
  {
   "cell_type": "code",
   "execution_count": 444,
   "metadata": {},
   "outputs": [
    {
     "data": {
      "image/png": "[encoded data removed]",
      "text/plain": [
       "<matplotlib.figure.Figure at 0x7f4b452a6d30>"
      ]
     },
     "metadata": {},
     "output_type": "display_data"
    }
   ],
   "source": [
    "plt.figure(figsize=[20,7])\n",
    "plt.subplot(1,2,1)\n",
    "plt.plot(df_total['gdp_in_usd'])\n",
    "plt.xlabel('Year')\n",
    "plt.ylabel(\"Gross Domestic Product in millions USD\")\n",
    "plt.subplot(1,2,2)\n",
    "plt.xlabel('Year')\n",
    "plt.ylabel(\"Gross Domestic Product in millions UAH\")\n",
    "plt.plot(df_total['gdp'])\n",
    "plt.show()"
   ]
  },
  {
   "cell_type": "code",
   "execution_count": 101,
   "metadata": {},
   "outputs": [],
   "source": []
  },
  {
   "cell_type": "code",
   "execution_count": 168,
   "metadata": {},
   "outputs": [
    {
     "data": {
      "text/plain": [
       "exchange rate       0\n",
       "gdp              4645\n",
       "dtype: int64"
      ]
     },
     "execution_count": 168,
     "metadata": {},
     "output_type": "execute_result"
    }
   ],
   "source": [
    "df_total.isnull().sum()"
   ]
  }
 ],
 "metadata": {
  "kernelspec": {
   "display_name": "Python 3",
   "language": "python",
   "name": "python3"
  }
 },
 "nbformat": 4,
 "nbformat_minor": 2
}
