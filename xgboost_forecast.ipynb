{
 "cells": [
  {
   "cell_type": "markdown",
   "metadata": {},
   "source": [
    "### Imports & read data"
   ]
  },
  {
   "cell_type": "code",
   "execution_count": 1,
   "metadata": {},
   "outputs": [],
   "source": [
    "import numpy as np\n",
    "import pandas as pd\n",
    "import matplotlib.pyplot as plt\n",
    "\n",
    "from sklearn.metrics import mean_squared_error\n"
   ]
  },
  {
   "cell_type": "code",
   "execution_count": 2,
   "metadata": {},
   "outputs": [],
   "source": [
    "%matplotlib inline"
   ]
  },
  {
   "cell_type": "code",
   "execution_count": 3,
   "metadata": {},
   "outputs": [],
   "source": [
    "import xgboost as xgb"
   ]
  },
  {
   "cell_type": "code",
   "execution_count": 4,
   "metadata": {},
   "outputs": [],
   "source": [
    "df = pd.read_csv('data/dataset.csv')"
   ]
  },
  {
   "cell_type": "markdown",
   "metadata": {},
   "source": [
    "### Quick look at the dataset"
   ]
  },
  {
   "cell_type": "code",
   "execution_count": 5,
   "metadata": {
    "scrolled": true
   },
   "outputs": [
    {
     "data": {
      "text/html": [
       "<div>\n",
       "<style scoped>\n",
       "    .dataframe tbody tr th:only-of-type {\n",
       "        vertical-align: middle;\n",
       "    }\n",
       "\n",
       "    .dataframe tbody tr th {\n",
       "        vertical-align: top;\n",
       "    }\n",
       "\n",
       "    .dataframe thead th {\n",
       "        text-align: right;\n",
       "    }\n",
       "</style>\n",
       "<table border=\"1\" class=\"dataframe\">\n",
       "  <thead>\n",
       "    <tr style=\"text-align: right;\">\n",
       "      <th></th>\n",
       "      <th>date</th>\n",
       "      <th>exchange rate</th>\n",
       "      <th>GDP</th>\n",
       "      <th>Inflation</th>\n",
       "      <th>Export</th>\n",
       "      <th>Import</th>\n",
       "      <th>GrossExtDebt</th>\n",
       "      <th>Interest Trend</th>\n",
       "      <th>GDP in $</th>\n",
       "    </tr>\n",
       "  </thead>\n",
       "  <tbody>\n",
       "    <tr>\n",
       "      <th>269</th>\n",
       "      <td>2010-09-27</td>\n",
       "      <td>7.9094</td>\n",
       "      <td>298493.782609</td>\n",
       "      <td>6.986667</td>\n",
       "      <td>130584.304348</td>\n",
       "      <td>146923.347826</td>\n",
       "      <td>111322.782609</td>\n",
       "      <td>22.733333</td>\n",
       "      <td>37739.118341</td>\n",
       "    </tr>\n",
       "    <tr>\n",
       "      <th>101</th>\n",
       "      <td>2010-04-12</td>\n",
       "      <td>7.9265</td>\n",
       "      <td>221724.340659</td>\n",
       "      <td>4.590000</td>\n",
       "      <td>108346.340659</td>\n",
       "      <td>111332.890110</td>\n",
       "      <td>103138.989011</td>\n",
       "      <td>26.466667</td>\n",
       "      <td>27972.540296</td>\n",
       "    </tr>\n",
       "    <tr>\n",
       "      <th>1551</th>\n",
       "      <td>2014-04-01</td>\n",
       "      <td>10.9981</td>\n",
       "      <td>316905.000000</td>\n",
       "      <td>3.000000</td>\n",
       "      <td>151712.000000</td>\n",
       "      <td>162853.000000</td>\n",
       "      <td>137379.000000</td>\n",
       "      <td>77.000000</td>\n",
       "      <td>28814.522508</td>\n",
       "    </tr>\n",
       "    <tr>\n",
       "      <th>219</th>\n",
       "      <td>2010-08-08</td>\n",
       "      <td>7.8909</td>\n",
       "      <td>274091.065217</td>\n",
       "      <td>3.370968</td>\n",
       "      <td>127438.108696</td>\n",
       "      <td>134502.695652</td>\n",
       "      <td>107507.565217</td>\n",
       "      <td>21.774194</td>\n",
       "      <td>34735.082844</td>\n",
       "    </tr>\n",
       "    <tr>\n",
       "      <th>1185</th>\n",
       "      <td>2013-03-31</td>\n",
       "      <td>7.9930</td>\n",
       "      <td>304591.644444</td>\n",
       "      <td>0.100000</td>\n",
       "      <td>149618.022222</td>\n",
       "      <td>173324.188889</td>\n",
       "      <td>135822.544444</td>\n",
       "      <td>12.967742</td>\n",
       "      <td>38107.299443</td>\n",
       "    </tr>\n",
       "  </tbody>\n",
       "</table>\n",
       "</div>"
      ],
      "text/plain": [
       "            date  exchange rate            GDP  Inflation         Export  \\\n",
       "269   2010-09-27         7.9094  298493.782609   6.986667  130584.304348   \n",
       "101   2010-04-12         7.9265  221724.340659   4.590000  108346.340659   \n",
       "1551  2014-04-01        10.9981  316905.000000   3.000000  151712.000000   \n",
       "219   2010-08-08         7.8909  274091.065217   3.370968  127438.108696   \n",
       "1185  2013-03-31         7.9930  304591.644444   0.100000  149618.022222   \n",
       "\n",
       "             Import   GrossExtDebt  Interest Trend      GDP in $  \n",
       "269   146923.347826  111322.782609       22.733333  37739.118341  \n",
       "101   111332.890110  103138.989011       26.466667  27972.540296  \n",
       "1551  162853.000000  137379.000000       77.000000  28814.522508  \n",
       "219   134502.695652  107507.565217       21.774194  34735.082844  \n",
       "1185  173324.188889  135822.544444       12.967742  38107.299443  "
      ]
     },
     "execution_count": 5,
     "metadata": {},
     "output_type": "execute_result"
    }
   ],
   "source": [
    "df.sample(5)"
   ]
  },
  {
   "cell_type": "markdown",
   "metadata": {},
   "source": [
    "### Set date as index"
   ]
  },
  {
   "cell_type": "code",
   "execution_count": 6,
   "metadata": {},
   "outputs": [],
   "source": [
    "df['date'] = pd.to_datetime(df['date'])"
   ]
  },
  {
   "cell_type": "code",
   "execution_count": 7,
   "metadata": {},
   "outputs": [],
   "source": [
    "df.set_index('date', inplace=True)"
   ]
  },
  {
   "cell_type": "markdown",
   "metadata": {},
   "source": [
    "### Split dataset to train and test data"
   ]
  },
  {
   "cell_type": "code",
   "execution_count": 29,
   "metadata": {},
   "outputs": [],
   "source": [
    "y = df['exchange rate']\n",
    "X = df.drop(['exchange rate'], axis=1)"
   ]
  },
  {
   "cell_type": "code",
   "execution_count": 30,
   "metadata": {},
   "outputs": [],
   "source": [
    "xgb_dmatrix = xgb.DMatrix(data=X, label=y)"
   ]
  },
  {
   "cell_type": "code",
   "execution_count": 31,
   "metadata": {},
   "outputs": [],
   "source": [
    "X_train = X[X.index < pd.to_datetime('2017-08-01')]\n",
    "y_train = y[y.index < pd.to_datetime('2017-08-01')]\n",
    "X_test = X[X.index >= pd.to_datetime('2017-08-01')]\n",
    "y_test = y[y.index >= pd.to_datetime('2017-08-01')]\n"
   ]
  },
  {
   "cell_type": "code",
   "execution_count": 32,
   "metadata": {},
   "outputs": [
    {
     "data": {
      "text/plain": [
       "((2769, 7), (2769,), (234, 7), (234,))"
      ]
     },
     "execution_count": 32,
     "metadata": {},
     "output_type": "execute_result"
    }
   ],
   "source": [
    "X_train.shape, y_train.shape, X_test.shape, y_test.shape"
   ]
  },
  {
   "cell_type": "code",
   "execution_count": 33,
   "metadata": {},
   "outputs": [],
   "source": [
    "regressor = xgb.XGBRegressor(objective='reg:linear', colsample_bytree=0.3, learning_rate=0.1, \n",
    "                              max_depth=4, n_estimators=1000)"
   ]
  },
  {
   "cell_type": "code",
   "execution_count": 37,
   "metadata": {},
   "outputs": [
    {
     "data": {
      "text/plain": [
       "XGBRegressor(base_score=0.5, booster='gbtree', colsample_bylevel=1,\n",
       "       colsample_bytree=0.3, gamma=0, learning_rate=0.1, max_delta_step=0,\n",
       "       max_depth=4, min_child_weight=1, missing=None, n_estimators=1000,\n",
       "       n_jobs=1, nthread=None, objective='reg:linear', random_state=0,\n",
       "       reg_alpha=0, reg_lambda=1, scale_pos_weight=1, seed=None,\n",
       "       silent=True, subsample=1)"
      ]
     },
     "execution_count": 37,
     "metadata": {},
     "output_type": "execute_result"
    }
   ],
   "source": [
    "regressor.fit(X_train, y_train)"
   ]
  },
  {
   "cell_type": "code",
   "execution_count": 38,
   "metadata": {},
   "outputs": [],
   "source": [
    "y_pred = regressor.predict(X_test)\n"
   ]
  },
  {
   "cell_type": "code",
   "execution_count": 36,
   "metadata": {},
   "outputs": [
    {
     "data": {
      "text/plain": [
       "[<matplotlib.lines.Line2D at 0x7fb150dc2e80>]"
      ]
     },
     "execution_count": 36,
     "metadata": {},
     "output_type": "execute_result"
    },
    {
     "data": {
      "image/png": "[encoded data removed]",
      "text/plain": [
       "<Figure size 1008x504 with 1 Axes>"
      ]
     },
     "metadata": {
      "needs_background": "light"
     },
     "output_type": "display_data"
    }
   ],
   "source": [
    "plt.figure(figsize=(14,7))\n",
    "plt.grid(True)\n",
    "plt.plot(y_test)\n",
    "plt.plot(X_test.index, y_pred)"
   ]
  },
  {
   "cell_type": "code",
   "execution_count": null,
   "metadata": {},
   "outputs": [],
   "source": []
  }
 ],
 "metadata": {
  "kernelspec": {
   "display_name": "Exchange_Rate",
   "language": "python",
   "name": "exchange_rate"
  },
  "language_info": {
   "codemirror_mode": {
    "name": "ipython",
    "version": 3
   },
   "file_extension": ".py",
   "mimetype": "text/x-python",
   "name": "python",
   "nbconvert_exporter": "python",
   "pygments_lexer": "ipython3",
   "version": "3.6.5"
  }
 },
 "nbformat": 4,
 "nbformat_minor": 2
}
